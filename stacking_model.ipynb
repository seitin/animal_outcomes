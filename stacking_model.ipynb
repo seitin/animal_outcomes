{
 "cells": [
  {
   "cell_type": "code",
   "execution_count": 96,
   "metadata": {
    "collapsed": false
   },
   "outputs": [],
   "source": [
    "import numpy as np\n",
    "import pandas as pd\n",
    "import matplotlib.pyplot as plt\n",
    "import matplotlib.patches as patches\n",
    "import matplotlib.path as path\n",
    "%matplotlib inline\n",
    "\n",
    "from datetime import datetime, time\n",
    "from sklearn.neighbors import KNeighborsClassifier, KNeighborsRegressor\n",
    "from sknn.mlp import Classifier, Layer\n",
    "from sklearn.linear_model import LinearRegression, RidgeClassifierCV, LogisticRegression\n",
    "from sklearn.preprocessing import OneHotEncoder, MinMaxScaler\n",
    "from sklearn.decomposition import PCA\n",
    "from sklearn.ensemble import *\n",
    "from sklearn.cross_validation import KFold, train_test_split, StratifiedKFold, cross_val_score\n",
    "from sklearn.metrics import log_loss\n",
    "from sklearn.grid_search import GridSearchCV\n",
    "from sklearn.svm import LinearSVC\n",
    "from sklearn.feature_selection import RFE\n",
    "from sklearn import cross_validation"
   ]
  },
  {
   "cell_type": "code",
   "execution_count": 97,
   "metadata": {
    "collapsed": false
   },
   "outputs": [],
   "source": [
    "# def get_data():\n",
    "df = pd.read_csv('train.csv.gz')"
   ]
  },
  {
   "cell_type": "code",
   "execution_count": null,
   "metadata": {
    "collapsed": false
   },
   "outputs": [],
   "source": []
  },
  {
   "cell_type": "code",
   "execution_count": null,
   "metadata": {
    "collapsed": false
   },
   "outputs": [],
   "source": []
  },
  {
   "cell_type": "code",
   "execution_count": 98,
   "metadata": {
    "collapsed": false
   },
   "outputs": [],
   "source": [
    "# df.total_time.map(lambda x: np.log10(x+1)).hist()"
   ]
  },
  {
   "cell_type": "code",
   "execution_count": null,
   "metadata": {
    "collapsed": false
   },
   "outputs": [],
   "source": []
  },
  {
   "cell_type": "code",
   "execution_count": null,
   "metadata": {
    "collapsed": false,
    "scrolled": true
   },
   "outputs": [],
   "source": []
  },
  {
   "cell_type": "code",
   "execution_count": null,
   "metadata": {
    "collapsed": false
   },
   "outputs": [],
   "source": []
  },
  {
   "cell_type": "code",
   "execution_count": 99,
   "metadata": {
    "collapsed": false
   },
   "outputs": [],
   "source": [
    "def get_vars(df, cols_x, cols_y=None):\n",
    "    minmax = MinMaxScaler()\n",
    "    \n",
    "    df.drop_duplicates(inplace=True)\n",
    "    df.DateTime = pd.to_datetime(df.DateTime)\n",
    "    df['weekday'] = df.DateTime.dt.weekday\n",
    "    df['weekend'] = (df.weekday > 4) * 1\n",
    "    df['viralata'] = (df.Breed.str.contains('Mix') | df.Breed.str.contains('/')) *1\n",
    "    df['named'] = ~df.Name.isnull() * 1\n",
    "    df['sex'] = df.SexuponOutcome.str.split(' ').str[1]\n",
    "    df['castrado'] = (df.SexuponOutcome.str.split(' ').str[0].str.contains('Neutered') | df.SexuponOutcome.str.split(' ').str[0].str.contains('Spayed')) * 1\n",
    "    df['first_color'] = df.Color.str.split('/').str[0]\n",
    "    df['second_color'] = df.Color.str.split('/').str[1]\n",
    "    df['first_breed'] = df.Breed.str.replace('Mix','').str.split('/').str[0].str.strip()\n",
    "    df['second_breed'] = df.Breed.str.replace('Mix','').str.split('/').str[1].str.strip()\n",
    "    #     df.ix[df.AgeuponOutcome.isnull(),'AgeuponOutcome'] = 0\n",
    "    filt = df.AgeuponOutcome.str.contains('year')\n",
    "    df['days_multiplyer'] = 0\n",
    "    df.ix[df.AgeuponOutcome.str.contains('year')==True,'days_multiplyer'] = 365\n",
    "    df.ix[df.AgeuponOutcome.str.contains('month')==True,'days_multiplyer'] = 30\n",
    "    df.ix[df.AgeuponOutcome.str.contains('week')==True,'days_multiplyer'] = 7\n",
    "    df.ix[df.AgeuponOutcome.str.contains('day')==True,'days_multiplyer'] = 1\n",
    "    df.totaltime = df.AgeuponOutcome.str.split().str[0]\n",
    "    df.ix[df.totaltime.isnull(),'AgeuponOutcome'] = 0\n",
    "    df['total_time'] = df.totaltime.astype('float64') * df.days_multiplyer\n",
    "    \n",
    "    df.ix[df.total_time.isnull(), 'total_time'] = 0\n",
    "#     df.total_time = df.total_time.map(lambda x: np.log10(x+1))\n",
    "    df['mixed_color'] = df.Color.str.contains('/').astype('int')\n",
    "    \n",
    "    df['year'] = df.DateTime.dt.year\n",
    "    df['month'] = df.DateTime.dt.month\n",
    "    df['yearmonth'] = df.DateTime.dt.month + df.DateTime.dt.year\n",
    "    df['day'] = df.DateTime.dt.day\n",
    "    df['time'] = df.DateTime.dt.hour * 60 + df.DateTime.dt.minute\n",
    "#     df.time = df.time.map(lambda x: np.log10(x+1))\n",
    "    \n",
    "    df['name_len'] = df.Name.str.len()\n",
    "    df.ix[df.name_len.isnull(), 'name_len'] = df.name_len.median()\n",
    "    \n",
    "    X = pd.get_dummies(df[cols_x]).values\n",
    "    if cols_y:            \n",
    "        df.ix[df.OutcomeType == 'Return_to_owner', 'IndY'] = 1\n",
    "        df.ix[df.OutcomeType == 'Euthanasia', 'IndY'] = 2\n",
    "        df.ix[df.OutcomeType == 'Adoption', 'IndY'] = 3\n",
    "        df.ix[df.OutcomeType == 'Transfer', 'IndY'] = 4\n",
    "        df.ix[df.OutcomeType == 'Died', 'IndY'] = 5\n",
    "        df.sort_values(by='OutcomeType')        \n",
    "        return X, df[cols_y].values\n",
    "    else:\n",
    "        return df\n",
    "    "
   ]
  },
  {
   "cell_type": "code",
   "execution_count": null,
   "metadata": {
    "collapsed": false
   },
   "outputs": [],
   "source": []
  },
  {
   "cell_type": "code",
   "execution_count": null,
   "metadata": {
    "collapsed": false
   },
   "outputs": [],
   "source": []
  },
  {
   "cell_type": "code",
   "execution_count": 107,
   "metadata": {
    "collapsed": false
   },
   "outputs": [],
   "source": [
    "cols_x = [\n",
    "    'AnimalType','SexuponOutcome','viralata',\n",
    "    'total_time','weekday','weekend','mixed_color',\n",
    "    'year', 'name_len', 'month', \n",
    "    'day', 'time','named',\n",
    "    'sex','castrado','first_color','second_color','first_breed','second_breed']\n",
    "cols_y = ['OutcomeType']"
   ]
  },
  {
   "cell_type": "code",
   "execution_count": 108,
   "metadata": {
    "collapsed": false
   },
   "outputs": [],
   "source": [
    "cols_1 = [\n",
    "    'AnimalType',\n",
    "    'viralata','weekend','total_time','time','name_len','year','month',\n",
    "    'named','sex','castrado','first_color','second_color','first_breed','second_breed'\n",
    "]\n",
    "# cols_1 = ['common_colors','SexuponOutcome','mixed_color','AnimalType','viralata','weekend','year']\n",
    "cols_rf = ['total_time', 'SexuponOutcome', 'AnimalType']\n",
    "cols_extra = ['total_time','time', 'SexuponOutcome', 'AnimalType']\n",
    "cols_gb = ['total_time','time','name_len', 'month', 'AnimalType', 'SexuponOutcome']"
   ]
  },
  {
   "cell_type": "code",
   "execution_count": 121,
   "metadata": {
    "collapsed": false
   },
   "outputs": [],
   "source": []
  },
  {
   "cell_type": "code",
   "execution_count": null,
   "metadata": {
    "collapsed": false
   },
   "outputs": [],
   "source": []
  },
  {
   "cell_type": "code",
   "execution_count": 125,
   "metadata": {
    "collapsed": false
   },
   "outputs": [],
   "source": [
    "X, Y = get_vars(df, cols_x, cols_y)\n",
    "X = pd.get_dummies(df[cols_1])\n",
    "gb_features = X.columns\n",
    "Y = Y.reshape(Y.shape[0])"
   ]
  },
  {
   "cell_type": "code",
   "execution_count": 126,
   "metadata": {
    "collapsed": true
   },
   "outputs": [],
   "source": [
    "kf = StratifiedKFold(Y, n_folds=2, shuffle=True, random_state=500)\n",
    "a = list(kf)[0][0]"
   ]
  },
  {
   "cell_type": "code",
   "execution_count": 129,
   "metadata": {
    "collapsed": false
   },
   "outputs": [],
   "source": [
    "X = X.loc[a]\n",
    "Y = Y[a]"
   ]
  },
  {
   "cell_type": "code",
   "execution_count": null,
   "metadata": {
    "collapsed": false
   },
   "outputs": [],
   "source": []
  },
  {
   "cell_type": "code",
   "execution_count": 130,
   "metadata": {
    "collapsed": true
   },
   "outputs": [],
   "source": [
    "def train_regression(forest, train_x, train_y, test_x=None, test_y=None):\n",
    "    nfolds = 5\n",
    "    ini = datetime.now()\n",
    "\n",
    "    kf = StratifiedKFold(train_y, n_folds=nfolds, shuffle=True, random_state=500)\n",
    "    log_acc = 0\n",
    "    print('Training linear...')\n",
    "    for k, (train, test) in enumerate(kf, start=1):\n",
    "        forest.fit(train_x[train], train_y[train])\n",
    "        pred = forest.predict(train_x[test]) \n",
    "        del pred\n",
    "        \n",
    "#     log_acc = 0\n",
    "#     print('Training ridge...')\n",
    "#     forest.fit(train_x, train_y)\n",
    "#     pred = forest.predict(train_x) \n",
    "#     del pred\n",
    "    \n",
    "    fim = datetime.now()\n",
    "    print(fim - ini)\n",
    "    return forest"
   ]
  },
  {
   "cell_type": "code",
   "execution_count": 131,
   "metadata": {
    "collapsed": false
   },
   "outputs": [],
   "source": [
    "def train_classifier(forest, train_x, train_y, nfolds, test_x=None, test_y=None):\n",
    "    ini = datetime.now()\n",
    "\n",
    "    kf = StratifiedKFold(train_y, n_folds=nfolds, shuffle=True)\n",
    "    \n",
    "    print('Training classifier...')\n",
    "    for k, (train, test) in enumerate(kf, start=1):\n",
    "        forest.fit(train_x[train], train_y[train])\n",
    "        print(k, ' ', end=\"\")\n",
    "        \n",
    "    scores = cross_validation.cross_val_score(forest, train_x, train_y, cv=5, scoring='log_loss')\n",
    "    print(\"Log loss: %0.2f (+/- %0.2f)\" % (scores.mean(), scores.std()))\n",
    "    \n",
    "    fim = datetime.now()\n",
    "    print(fim - ini)\n",
    "    print('')\n",
    "    return forest"
   ]
  },
  {
   "cell_type": "code",
   "execution_count": null,
   "metadata": {
    "collapsed": false
   },
   "outputs": [],
   "source": []
  },
  {
   "cell_type": "code",
   "execution_count": null,
   "metadata": {
    "collapsed": false
   },
   "outputs": [],
   "source": []
  },
  {
   "cell_type": "code",
   "execution_count": 200,
   "metadata": {
    "collapsed": false
   },
   "outputs": [],
   "source": [
    "rf = RandomForestClassifier(\n",
    "        n_estimators=300,\n",
    "        max_depth=50,\n",
    "        max_leaf_nodes=500,\n",
    "        n_jobs=4,\n",
    "        min_weight_fraction_leaf=.1,\n",
    "        max_features=1.0,\n",
    "        random_state=500,\n",
    "        criterion='gini')  "
   ]
  },
  {
   "cell_type": "code",
   "execution_count": null,
   "metadata": {
    "collapsed": false
   },
   "outputs": [
    {
     "data": {
      "text/plain": [
       "RandomForestClassifier(bootstrap=True, class_weight=None, criterion='gini',\n",
       "            max_depth=50, max_features=1.0, max_leaf_nodes=500,\n",
       "            min_samples_leaf=1, min_samples_split=2,\n",
       "            min_weight_fraction_leaf=0.1, n_estimators=300, n_jobs=4,\n",
       "            oob_score=False, random_state=500, verbose=0, warm_start=False)"
      ]
     },
     "execution_count": 201,
     "metadata": {},
     "output_type": "execute_result"
    }
   ],
   "source": [
    "rf.fit(X, Y)"
   ]
  },
  {
   "cell_type": "code",
   "execution_count": null,
   "metadata": {
    "collapsed": false
   },
   "outputs": [],
   "source": [
    "scores = cross_validation.cross_val_score(rf, X, Y, cv=5, scoring='log_loss')\n",
    "print(\"Log loss: %0.2f (+/- %0.2f)\" % (scores.mean(), scores.std()))"
   ]
  },
  {
   "cell_type": "code",
   "execution_count": 177,
   "metadata": {
    "collapsed": false,
    "scrolled": true
   },
   "outputs": [],
   "source": [
    "def train(x, y, y_ind):    \n",
    "    x1 = x.values\n",
    "    x1_log2 = np.log2(x1+1)\n",
    "    x1_log10 = np.log10(x1+1)\n",
    "    \n",
    "\n",
    "    extra = ExtraTreesClassifier(\n",
    "        n_estimators=400,\n",
    "        max_depth=50,\n",
    "        max_leaf_nodes=200,\n",
    "        n_jobs=4, \n",
    "        random_state=500)    \n",
    "    rf_gini = RandomForestClassifier(\n",
    "        n_estimators=400,\n",
    "        max_depth=75,\n",
    "        max_leaf_nodes=40,\n",
    "        n_jobs=4,\n",
    "        random_state=500,\n",
    "        criterion='gini')        \n",
    "    knn = KNeighborsClassifier(500)\n",
    "    gb = GradientBoostingClassifier(min_samples_split=1000, max_depth=6, random_state=500)\n",
    "\n",
    "    ada = AdaBoostClassifier(n_estimators=75)\n",
    "\n",
    "    extra = train_classifier(extra, x1, y, 5)\n",
    "    rf_gini = train_classifier(rf_gini, x1, y, 10)\n",
    "    knn = train_classifier(knn, x1, y, 4)\n",
    "    gb = train_classifier(gb, x1, y, 5)    \n",
    "    ada = train_classifier(ada, x1, y, 2)\n",
    "    \n",
    "    \n",
    "    print('\\n')\n",
    "\n",
    "    return extra, rf_gini, knn, gb, ada"
   ]
  },
  {
   "cell_type": "code",
   "execution_count": 78,
   "metadata": {
    "collapsed": false,
    "scrolled": false
   },
   "outputs": [
    {
     "name": "stdout",
     "output_type": "stream",
     "text": [
      "Training classifier...\n",
      "1  2  3  4  5  Log loss: -1.01 (+/- 0.01)\n",
      "0:00:07.953688\n",
      "\n",
      "Training classifier...\n",
      "1  2  3  4  5  6  7  8  9  10  Log loss: -0.99 (+/- 0.01)\n",
      "0:00:12.173348\n",
      "\n",
      "Training classifier...\n",
      "1  2  3  4  Log loss: -1.18 (+/- 0.04)\n",
      "0:00:00.887559\n",
      "\n",
      "Training classifier...\n",
      "1  2  3  4  5  Log loss: -0.88 (+/- 0.03)\n",
      "0:00:56.924457\n",
      "\n",
      "Training classifier...\n",
      "1  2  Log loss: -1.44 (+/- 0.03)\n",
      "0:00:02.352765\n",
      "\n",
      "\n",
      "\n"
     ]
    }
   ],
   "source": [
    "# %%time\n",
    "extra, rf, knn, gb, ada = train(\n",
    "    X,\n",
    "    Y,\n",
    "    df.IndY.values\n",
    ")\n"
   ]
  },
  {
   "cell_type": "code",
   "execution_count": 79,
   "metadata": {
    "collapsed": false
   },
   "outputs": [],
   "source": [
    "# 1.46"
   ]
  },
  {
   "cell_type": "code",
   "execution_count": 80,
   "metadata": {
    "collapsed": false,
    "scrolled": true
   },
   "outputs": [],
   "source": [
    "def pred(extra, rf, knn, gb, x):\n",
    "    x1 = x.values[a]\n",
    "    \n",
    "    one = extra.predict_proba(xextra)\n",
    "    two = rf.predict_proba(xrf)\n",
    "    three = knn.predict_proba(x1_log10)\n",
    "    four = gb.predict_proba(xgb)\n",
    "    newx = [one, two, three, four]\n",
    "    return newx\n"
   ]
  },
  {
   "cell_type": "code",
   "execution_count": null,
   "metadata": {
    "collapsed": false
   },
   "outputs": [],
   "source": []
  },
  {
   "cell_type": "code",
   "execution_count": null,
   "metadata": {
    "collapsed": false
   },
   "outputs": [],
   "source": []
  },
  {
   "cell_type": "code",
   "execution_count": 88,
   "metadata": {
    "collapsed": false
   },
   "outputs": [],
   "source": [
    "def get_test():\n",
    "    df_test = pd.read_csv('test.csv.gz')    \n",
    "    X_test = get_vars(df_test, cols_x)\n",
    "\n",
    "    return X_test"
   ]
  },
  {
   "cell_type": "code",
   "execution_count": 89,
   "metadata": {
    "collapsed": false
   },
   "outputs": [],
   "source": [
    "X_test = get_test()\n",
    "X_test = pd.get_dummies(X_test)"
   ]
  },
  {
   "cell_type": "code",
   "execution_count": 125,
   "metadata": {
    "collapsed": false
   },
   "outputs": [
    {
     "name": "stderr",
     "output_type": "stream",
     "text": [
      "/usr/local/lib/python3.4/dist-packages/ipykernel/__main__.py:1: FutureWarning: using '-' to provide set differences with Indexes is deprecated, use .difference()\n",
      "  if __name__ == '__main__':\n"
     ]
    }
   ],
   "source": [
    "missing_cols = list(gb_features - X_test.columns)"
   ]
  },
  {
   "cell_type": "code",
   "execution_count": null,
   "metadata": {
    "collapsed": false
   },
   "outputs": [],
   "source": []
  },
  {
   "cell_type": "code",
   "execution_count": 127,
   "metadata": {
    "collapsed": false
   },
   "outputs": [],
   "source": [
    "for col in missing_cols:\n",
    "    X_test[col] = 0"
   ]
  },
  {
   "cell_type": "code",
   "execution_count": null,
   "metadata": {
    "collapsed": false
   },
   "outputs": [],
   "source": []
  },
  {
   "cell_type": "code",
   "execution_count": null,
   "metadata": {
    "collapsed": false,
    "scrolled": true
   },
   "outputs": [],
   "source": []
  },
  {
   "cell_type": "code",
   "execution_count": null,
   "metadata": {
    "collapsed": false
   },
   "outputs": [],
   "source": []
  },
  {
   "cell_type": "code",
   "execution_count": 129,
   "metadata": {
    "collapsed": true
   },
   "outputs": [],
   "source": [
    "cats = df.OutcomeType.unique()\n",
    "cats.sort()\n",
    "final_result = gb.predict_proba(X_test[gb_features].values)\n",
    "final_result = pd.DataFrame(final_result, columns=cats)"
   ]
  },
  {
   "cell_type": "code",
   "execution_count": null,
   "metadata": {
    "collapsed": false
   },
   "outputs": [],
   "source": [
    "cats = df.OutcomeType.unique()\n",
    "cats.sort()\n",
    "\n",
    "first, second, thirdth, fourth  = pred(extra, rf, knn, gb, X_test)\n",
    "final_result = first*one + second*two +  fourth*four # +thirdth*three\n",
    "\n",
    "# final_result = pred(extra, gb, X_test)\n",
    "final_result = pd.DataFrame(final_result, columns=cats)"
   ]
  },
  {
   "cell_type": "code",
   "execution_count": 131,
   "metadata": {
    "collapsed": false
   },
   "outputs": [],
   "source": [
    "final_result['Id'] = final_result.index+1\n",
    "final_result.set_index('Id', inplace=True)"
   ]
  },
  {
   "cell_type": "code",
   "execution_count": 132,
   "metadata": {
    "collapsed": false
   },
   "outputs": [],
   "source": [
    "today = datetime.today()\n",
    "t = today.strftime('%Y%m%d%H%M')\n",
    "final_result.to_csv('result_%s.csv.gz'%t, compression='gzip')"
   ]
  },
  {
   "cell_type": "code",
   "execution_count": null,
   "metadata": {
    "collapsed": false
   },
   "outputs": [],
   "source": []
  },
  {
   "cell_type": "code",
   "execution_count": null,
   "metadata": {
    "collapsed": true
   },
   "outputs": [],
   "source": []
  }
 ],
 "metadata": {
  "kernelspec": {
   "display_name": "Python 3",
   "language": "python",
   "name": "python3"
  },
  "language_info": {
   "codemirror_mode": {
    "name": "ipython",
    "version": 3
   },
   "file_extension": ".py",
   "mimetype": "text/x-python",
   "name": "python",
   "nbconvert_exporter": "python",
   "pygments_lexer": "ipython3",
   "version": "3.4.3"
  }
 },
 "nbformat": 4,
 "nbformat_minor": 0
}
