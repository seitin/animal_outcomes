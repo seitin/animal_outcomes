{
 "cells": [
  {
   "cell_type": "code",
   "execution_count": 54,
   "metadata": {
    "collapsed": false
   },
   "outputs": [],
   "source": [
    "import numpy as np\n",
    "import pandas as pd\n",
    "import matplotlib.pyplot as plt\n",
    "import matplotlib.patches as patches\n",
    "import matplotlib.path as path\n",
    "%matplotlib inline\n",
    "\n",
    "from datetime import datetime, time\n",
    "from sklearn.neighbors import KNeighborsClassifier, KNeighborsRegressor\n",
    "from sknn.mlp import Classifier, Layer\n",
    "from sklearn.linear_model import LinearRegression, RidgeClassifierCV, LogisticRegression\n",
    "from sklearn.preprocessing import OneHotEncoder, MinMaxScaler\n",
    "from sklearn.decomposition import PCA\n",
    "from sklearn.ensemble import *\n",
    "from sklearn.cross_validation import KFold, train_test_split, StratifiedKFold, cross_val_score\n",
    "from sklearn.metrics import log_loss\n",
    "from sklearn.grid_search import GridSearchCV\n",
    "from sklearn.svm import LinearSVC\n",
    "from sklearn.feature_selection import RFE\n",
    "from sklearn import cross_validation"
   ]
  },
  {
   "cell_type": "code",
   "execution_count": 55,
   "metadata": {
    "collapsed": false
   },
   "outputs": [],
   "source": [
    "# def get_data():\n",
    "df = pd.read_csv('train.csv.gz')"
   ]
  },
  {
   "cell_type": "code",
   "execution_count": null,
   "metadata": {
    "collapsed": false
   },
   "outputs": [],
   "source": []
  },
  {
   "cell_type": "code",
   "execution_count": null,
   "metadata": {
    "collapsed": false
   },
   "outputs": [],
   "source": []
  },
  {
   "cell_type": "code",
   "execution_count": 56,
   "metadata": {
    "collapsed": false
   },
   "outputs": [],
   "source": [
    "# df.total_time.map(lambda x: np.log10(x+1)).hist()"
   ]
  },
  {
   "cell_type": "code",
   "execution_count": 57,
   "metadata": {
    "collapsed": false
   },
   "outputs": [],
   "source": [
    "df_color = pd.DataFrame({'color1':df.Color.str.split('/').str[0], 'color2':df.Color.str.split('/').str[1]})\n",
    "vc_color = pd.concat((df_color['color1'], df_color['color2'])).value_counts()\n",
    "common_colors = vc_color[vc_color > 300].index"
   ]
  },
  {
   "cell_type": "code",
   "execution_count": null,
   "metadata": {
    "collapsed": false
   },
   "outputs": [],
   "source": []
  },
  {
   "cell_type": "code",
   "execution_count": null,
   "metadata": {
    "collapsed": false,
    "scrolled": true
   },
   "outputs": [],
   "source": []
  },
  {
   "cell_type": "code",
   "execution_count": null,
   "metadata": {
    "collapsed": false
   },
   "outputs": [],
   "source": []
  },
  {
   "cell_type": "code",
   "execution_count": 58,
   "metadata": {
    "collapsed": false
   },
   "outputs": [],
   "source": [
    "def get_vars(df, cols_x, cols_y=None):\n",
    "    minmax = MinMaxScaler()\n",
    "    \n",
    "    df.drop_duplicates(inplace=True)\n",
    "    df.DateTime = pd.to_datetime(df.DateTime)\n",
    "    df['weekday'] = df.DateTime.dt.weekday\n",
    "    df['weekend'] = (df.weekday > 4) * 1\n",
    "    df['viralata'] = (df.Breed.str.contains('Mix') | df.Breed.str.contains('/')) *1\n",
    "    df['named'] = ~df.Name.isnull() * 1\n",
    "    df['common_colors'] = df.Color.isin(common_colors) * 1\n",
    "    df['sex'] = df.SexuponOutcome.str.split(' ').str[1]\n",
    "    df['castrado'] = (df.SexuponOutcome.str.split(' ').str[0].str.contains('Neutered') | df.SexuponOutcome.str.split(' ').str[0].str.contains('Spayed')) * 1\n",
    "    df['first_color'] = df.Color.str.split('/').str[0].str.split(' ').str[0]\n",
    "    df['raca'] = df.Breed.str.replace('Mix','').str.split('/').str[0].str.strip()\n",
    "    #     df.ix[df.AgeuponOutcome.isnull(),'AgeuponOutcome'] = 0\n",
    "    filt = df.AgeuponOutcome.str.contains('year')\n",
    "    df['days_multiplyer'] = 0\n",
    "    df.ix[df.AgeuponOutcome.str.contains('year')==True,'days_multiplyer'] = 365\n",
    "    df.ix[df.AgeuponOutcome.str.contains('month')==True,'days_multiplyer'] = 30\n",
    "    df.ix[df.AgeuponOutcome.str.contains('week')==True,'days_multiplyer'] = 7\n",
    "    df.ix[df.AgeuponOutcome.str.contains('day')==True,'days_multiplyer'] = 1\n",
    "    df.totaltime = df.AgeuponOutcome.str.split().str[0]\n",
    "    df.ix[df.totaltime.isnull(),'AgeuponOutcome'] = 0\n",
    "    df['total_time'] = df.totaltime.astype('float64') * df.days_multiplyer\n",
    "    \n",
    "    df.ix[df.total_time.isnull(), 'total_time'] = 0\n",
    "#     df.total_time = df.total_time.map(lambda x: np.log10(x+1))\n",
    "    df['mixed_color'] = df.Color.str.contains('/').astype('int')\n",
    "    \n",
    "    df['year'] = df.DateTime.dt.year\n",
    "    df['month'] = df.DateTime.dt.month\n",
    "    df['yearmonth'] = df.DateTime.dt.month + df.DateTime.dt.year\n",
    "    df['day'] = df.DateTime.dt.day\n",
    "    df['time'] = df.DateTime.dt.hour * 60 + df.DateTime.dt.minute\n",
    "#     df.time = df.time.map(lambda x: np.log10(x+1))\n",
    "    \n",
    "    df['name_len'] = df.Name.str.len()\n",
    "    df.ix[df.name_len.isnull(), 'name_len'] = df.name_len.median()\n",
    "    \n",
    "    X = pd.get_dummies(df[cols_x]).values\n",
    "    if cols_y:            \n",
    "        df.ix[df.OutcomeType == 'Return_to_owner', 'IndY'] = 1\n",
    "        df.ix[df.OutcomeType == 'Euthanasia', 'IndY'] = 2\n",
    "        df.ix[df.OutcomeType == 'Adoption', 'IndY'] = 3\n",
    "        df.ix[df.OutcomeType == 'Transfer', 'IndY'] = 4\n",
    "        df.ix[df.OutcomeType == 'Died', 'IndY'] = 5\n",
    "        df.sort_values(by='OutcomeType')        \n",
    "        return X, df[cols_y].values\n",
    "    else:\n",
    "        return df\n",
    "    "
   ]
  },
  {
   "cell_type": "code",
   "execution_count": null,
   "metadata": {
    "collapsed": false
   },
   "outputs": [],
   "source": []
  },
  {
   "cell_type": "code",
   "execution_count": null,
   "metadata": {
    "collapsed": false
   },
   "outputs": [],
   "source": []
  },
  {
   "cell_type": "code",
   "execution_count": null,
   "metadata": {
    "collapsed": false
   },
   "outputs": [],
   "source": []
  },
  {
   "cell_type": "code",
   "execution_count": null,
   "metadata": {
    "collapsed": false
   },
   "outputs": [],
   "source": []
  },
  {
   "cell_type": "code",
   "execution_count": null,
   "metadata": {
    "collapsed": false
   },
   "outputs": [],
   "source": []
  },
  {
   "cell_type": "code",
   "execution_count": 59,
   "metadata": {
    "collapsed": true
   },
   "outputs": [],
   "source": [
    "# df.index = [df.index,df.Color]"
   ]
  },
  {
   "cell_type": "code",
   "execution_count": null,
   "metadata": {
    "collapsed": false
   },
   "outputs": [],
   "source": []
  },
  {
   "cell_type": "code",
   "execution_count": 60,
   "metadata": {
    "collapsed": false
   },
   "outputs": [],
   "source": [
    "# df.ix[df.mixed_color.isin(df.mixed_color.value_counts()[df.mixed_color.value_counts() == True].index)]['OutcomeType'].value_counts().plot(kind='bar')"
   ]
  },
  {
   "cell_type": "code",
   "execution_count": null,
   "metadata": {
    "collapsed": false
   },
   "outputs": [],
   "source": []
  },
  {
   "cell_type": "code",
   "execution_count": 61,
   "metadata": {
    "collapsed": false
   },
   "outputs": [],
   "source": [
    "cols_x = [\n",
    "    'AnimalType','SexuponOutcome','viralata',\n",
    "    'total_time','weekday','weekend',\n",
    "    'common_colors','mixed_color',\n",
    "    'year', 'name_len', 'month', \n",
    "    'day', 'time','named',\n",
    "    'sex','castrado','first_color','raca']\n",
    "cols_y = ['OutcomeType']"
   ]
  },
  {
   "cell_type": "code",
   "execution_count": 93,
   "metadata": {
    "collapsed": false
   },
   "outputs": [],
   "source": [
    "cols_1 = [\n",
    "    'AnimalType',\n",
    "    'viralata','weekend','total_time','time','name_len','year','month',\n",
    "    'named','sex','castrado','first_color','raca'\n",
    "]\n",
    "# cols_1 = ['common_colors','SexuponOutcome','mixed_color','AnimalType','viralata','weekend','year']\n",
    "cols_rf = ['total_time', 'SexuponOutcome', 'AnimalType']\n",
    "cols_extra = ['total_time','time', 'SexuponOutcome', 'AnimalType']\n",
    "cols_gb = ['total_time','time','name_len', 'month', 'AnimalType', 'SexuponOutcome']"
   ]
  },
  {
   "cell_type": "code",
   "execution_count": 94,
   "metadata": {
    "collapsed": false
   },
   "outputs": [],
   "source": [
    "X, Y = get_vars(df, cols_x, cols_y)\n",
    "X = pd.get_dummies(df[cols_1])\n",
    "Y = Y.reshape(Y.shape[0])"
   ]
  },
  {
   "cell_type": "code",
   "execution_count": null,
   "metadata": {
    "collapsed": false
   },
   "outputs": [],
   "source": []
  },
  {
   "cell_type": "code",
   "execution_count": 63,
   "metadata": {
    "collapsed": false
   },
   "outputs": [],
   "source": [
    "# df.ix[df.total_time.isnull()]"
   ]
  },
  {
   "cell_type": "code",
   "execution_count": 64,
   "metadata": {
    "collapsed": false
   },
   "outputs": [
    {
     "data": {
      "text/plain": [
       "8909.666666666666"
      ]
     },
     "execution_count": 64,
     "metadata": {},
     "output_type": "execute_result"
    }
   ],
   "source": [
    "df.shape[0]/3"
   ]
  },
  {
   "cell_type": "code",
   "execution_count": 65,
   "metadata": {
    "collapsed": false
   },
   "outputs": [],
   "source": [
    "kf = StratifiedKFold(df.OutcomeType,n_folds=2, shuffle=True, random_state=500)\n",
    "# a = np.concatenate((list(kf)[0][0], list(kf)[1][0]))#, list(kf)[2][0], list(kf)[3][0]))\n",
    "a = list(kf)[0][0]#, list(kf)[2][0], list(kf)[3][0]))\n",
    "b = list(kf)[1][0]\n",
    "# c = list(list(kf)[2][0])[0:8909]\n",
    "# d = list(list(kf)[3][0])[0:6682]\n",
    "\n",
    "\n",
    "# X_knn = X[train]\n",
    "# Y_knn = Y[train]\n",
    "\n",
    "# X_gb = X[train]\n",
    "# Y_gb = Y[train]\n",
    "\n",
    "# X_forest = X[train]\n",
    "# Y_forest = Y[train]\n",
    "\n",
    "# X_test = X[test]\n",
    "# Y_test = Y[test]\n",
    "\n",
    "# df_knn = df.ix[train]\n",
    "# df_gb = df.ix[train]\n",
    "# df_forest = df.ix[train]\n",
    "\n",
    "# df_train = df"
   ]
  },
  {
   "cell_type": "code",
   "execution_count": null,
   "metadata": {
    "collapsed": false
   },
   "outputs": [],
   "source": []
  },
  {
   "cell_type": "code",
   "execution_count": 66,
   "metadata": {
    "collapsed": false
   },
   "outputs": [],
   "source": [
    "# train_x = X_train\n",
    "# train_y = Y_train\n",
    "# test_x = X_test\n",
    "# test_y = Y_test"
   ]
  },
  {
   "cell_type": "code",
   "execution_count": null,
   "metadata": {
    "collapsed": true
   },
   "outputs": [],
   "source": []
  },
  {
   "cell_type": "code",
   "execution_count": 67,
   "metadata": {
    "collapsed": true
   },
   "outputs": [],
   "source": [
    "def train_regression(forest, train_x, train_y, test_x=None, test_y=None):\n",
    "    nfolds = 5\n",
    "    ini = datetime.now()\n",
    "\n",
    "    kf = StratifiedKFold(train_y, n_folds=nfolds, shuffle=True, random_state=500)\n",
    "    log_acc = 0\n",
    "    print('Training linear...')\n",
    "    for k, (train, test) in enumerate(kf, start=1):\n",
    "        forest.fit(train_x[train], train_y[train])\n",
    "        pred = forest.predict(train_x[test]) \n",
    "        del pred\n",
    "        \n",
    "#     log_acc = 0\n",
    "#     print('Training ridge...')\n",
    "#     forest.fit(train_x, train_y)\n",
    "#     pred = forest.predict(train_x) \n",
    "#     del pred\n",
    "    \n",
    "    fim = datetime.now()\n",
    "    print(fim - ini)\n",
    "    return forest"
   ]
  },
  {
   "cell_type": "code",
   "execution_count": 68,
   "metadata": {
    "collapsed": false
   },
   "outputs": [],
   "source": [
    "def train_classifier(forest, train_x, train_y, nfolds, test_x=None, test_y=None):\n",
    "    ini = datetime.now()\n",
    "\n",
    "    kf = StratifiedKFold(train_y, n_folds=nfolds, shuffle=True)\n",
    "#     log_acc = 0\n",
    "    print('Training classifier...')\n",
    "    for k, (train, test) in enumerate(kf, start=1):\n",
    "        forest.fit(train_x[train], train_y[train])\n",
    "        print(k, ' ', end=\"\")\n",
    "#         pred = forest.predict_proba(train_x[test])\n",
    "        \n",
    "#         loglo = log_loss(train_y[test], pred)\n",
    "#         log_acc += loglo\n",
    "#         print('fold:', k, 'log loss:', loglo)\n",
    "#         del pred\n",
    "        \n",
    "        \n",
    "    scores = cross_validation.cross_val_score(forest, train_x, train_y, cv=5, scoring='log_loss')\n",
    "    print(\"Log loss: %0.2f (+/- %0.2f)\" % (scores.mean(), scores.std()))\n",
    "    \n",
    "    \n",
    "#     print('acc:',log_acc/nfolds)\n",
    "#     forest.fit(train_x, train_y)\n",
    "#     print('final log loss: ',log_loss(train_y, forest.predict_proba(train_x)))\n",
    "#     print('\\n\\n')\n",
    "#     log_acc = 0\n",
    "#     print('Training rf...')\n",
    "#     forest.fit(train_x, train_y)\n",
    "#     pred = forest.predict_proba(train_x) \n",
    "#     loglo = log_loss(train_y, pred)\n",
    "#     log_acc += loglo\n",
    "#     print('log loss:', loglo)\n",
    "#     del pred\n",
    "\n",
    "    fim = datetime.now()\n",
    "    print(fim - ini)\n",
    "    print('')\n",
    "    return forest"
   ]
  },
  {
   "cell_type": "code",
   "execution_count": null,
   "metadata": {
    "collapsed": false
   },
   "outputs": [],
   "source": []
  },
  {
   "cell_type": "code",
   "execution_count": 69,
   "metadata": {
    "collapsed": false
   },
   "outputs": [],
   "source": []
  },
  {
   "cell_type": "code",
   "execution_count": null,
   "metadata": {
    "collapsed": false
   },
   "outputs": [],
   "source": []
  },
  {
   "cell_type": "code",
   "execution_count": 70,
   "metadata": {
    "collapsed": true
   },
   "outputs": [],
   "source": [
    "# minmax1 = MinMaxScaler()\n",
    "# minmax1 = minmax1.fit(pd.get_dummies(df[cols_1]).values)"
   ]
  },
  {
   "cell_type": "code",
   "execution_count": 71,
   "metadata": {
    "collapsed": false
   },
   "outputs": [],
   "source": [
    "# minmax4 = MinMaxScaler()\n",
    "# minmax4 = minmax4.fit(pd.get_dummies(df[cols_4]).values)"
   ]
  },
  {
   "cell_type": "code",
   "execution_count": null,
   "metadata": {
    "collapsed": false
   },
   "outputs": [],
   "source": []
  },
  {
   "cell_type": "code",
   "execution_count": 95,
   "metadata": {
    "collapsed": false,
    "scrolled": true
   },
   "outputs": [],
   "source": [
    "def train(x, y, y_ind):    \n",
    "    x1 = x.values\n",
    "#     x4 = pd.get_dummies(x[cols_4]).values\n",
    "#     x1_minmax = minmax1.transform(x1)\n",
    "#     x4_minmax = minmax4.transform(x4)\n",
    "    x1_log2 = np.log2(x1+1)\n",
    "    x1_log10 = np.log10(x1+1)\n",
    "    \n",
    "#     xrf = pd.get_dummies(x[cols_rf]).values\n",
    "#     xrf = np.log2(xrf+1)\n",
    "#     xextra = pd.get_dummies(x[cols_extra]).values\n",
    "#     xextra = np.log10(xextra+1)\n",
    "#     xgb = pd.get_dummies(x[cols_gb]).values\n",
    "        \n",
    "    if type(rf_features) != type(None):  \n",
    "        xrf = pd.get_dummies(x)[rf_features].values\n",
    "        print('new rf')\n",
    "    else:\n",
    "        xrf = x1\n",
    "    xrf = np.log2(xrf+1)\n",
    "    \n",
    "    if type(extra_features) != type(None):        \n",
    "        xextra = pd.get_dummies(x)[extra_features].values\n",
    "        print('new extra')\n",
    "    else:\n",
    "        xextra = x1\n",
    "    xextra = np.log10(xextra+1)\n",
    "    \n",
    "    if type(gb_features) != type(None):\n",
    "        xgb = pd.get_dummies(x)[gb_features].values\n",
    "        print('new gb')\n",
    "    else:\n",
    "        xgb = x1\n",
    "    \n",
    "    \n",
    "    nfolds = 2\n",
    "#     kf = StratifiedKFold(y, n_folds=nfolds, shuffle=True)\n",
    "    \n",
    "    extra = ExtraTreesClassifier(n_estimators=400, max_depth=50,max_leaf_nodes=60, n_jobs=4, random_state=500)    \n",
    "    \n",
    "    rf_gini = RandomForestClassifier(\n",
    "        n_estimators=400,\n",
    "        max_depth=75,\n",
    "        max_leaf_nodes=40,\n",
    "        n_jobs=4,\n",
    "        random_state=500,\n",
    "        criterion='gini')\n",
    "        \n",
    "    \n",
    "    knn = KNeighborsClassifier(500)\n",
    "    gb = GradientBoostingClassifier(min_samples_split=1000, max_depth=8, random_state=500)\n",
    "    \n",
    "#     for k, (train, test) in enumerate(kf, start=1):\n",
    "        \n",
    "    extra = train_classifier(extra, xextra, y, 5)\n",
    "#         ens = gb1.predict_proba(x1_minmax[train])\n",
    "#         ens = np.concatenate((x1_minmax[train], ens), axis=1)\n",
    "\n",
    "    rf_gini = train_classifier(rf_gini, xrf, y, 10)\n",
    "#     rf_entropy = train_classifier(rf_entropy, x1_log2, y, 10)\n",
    "    \n",
    "#         ens = gb1.predict_proba(x1_minmax[train])\n",
    "#         ens = np.concatenate((x1_minmax[train], ens), axis=1)\n",
    "\n",
    "    knn = train_classifier(knn, x1_log10, y, 4)\n",
    "#         ens = gb1.predict_proba(x1_minmax[train])\n",
    "#         ens = np.concatenate((x1_minmax[train], ens), axis=1)\n",
    "\n",
    "#         ridge = RidgeClassifierCV()\n",
    "#         ridge = train_regression(ridge, x1_minmax[train], y[train])\n",
    "#         ens = ens.reshape(ens.shape[0],1)\n",
    "\n",
    "#         ens = np.concatenate((x1_minmax[train], ens), axis=1)\n",
    "    gb = train_classifier(gb, xgb, y, 5)\n",
    "    print('\\n')\n",
    "#     pass\n",
    "    \n",
    "            \n",
    "\n",
    "#     gb = train_gb(np.concatenate((ens1, ens2, x4),axis=1), y)\n",
    "\n",
    "    #         proba = gb.predict_proba(np.concatenate((ens, X[train]),axis=1))\n",
    "        \n",
    "#     return extra, rf_gini, knn, gb\n",
    "\n",
    "\n",
    "    return extra, rf_gini, knn, gb"
   ]
  },
  {
   "cell_type": "code",
   "execution_count": null,
   "metadata": {
    "collapsed": false
   },
   "outputs": [],
   "source": []
  },
  {
   "cell_type": "code",
   "execution_count": 96,
   "metadata": {
    "collapsed": false,
    "scrolled": true
   },
   "outputs": [],
   "source": [
    "def pred(extra, rf, knn, gb, x):\n",
    "    x1 = x.values  \n",
    "#     x4 = pd.get_dummies(x[cols_4]).values\n",
    "    \n",
    "#     x1_minmax = minmax1.transform(x1)\n",
    "#     x4_minmax = minmax4.transform(x4)\n",
    "#     x1_log2 = np.log2(x1+1)\n",
    "#     x1_log10 = np.log10(x1+1)   \n",
    "    \n",
    "    if type(rf_features) != type(None):  \n",
    "        xrf = pd.get_dummies(x)[rf_features].values\n",
    "        print('new rf')\n",
    "    else:\n",
    "        xrf = x1\n",
    "#     xrf = np.log2(xrf+1)\n",
    "    \n",
    "    if type(extra_features) != type(None):        \n",
    "        xextra = pd.get_dummies(x)[extra_features].values\n",
    "        print('new extra')\n",
    "    else:\n",
    "        xextra = x1\n",
    "#     xextra = np.log10(xextra+1)\n",
    "    \n",
    "    if type(gb_features) != type(None):\n",
    "        xgb = pd.get_dummies(x)[gb_features].values\n",
    "        print('new gb')\n",
    "    else:\n",
    "        xgb = x1\n",
    "    \n",
    "    \n",
    "    one = extra.predict_proba(xextra)\n",
    "    two = rf.predict_proba(xrf)\n",
    "    three = knn.predict_proba(x1_log10)\n",
    "#     ens = ens.reshape(ens.shape[0],1)\n",
    "#     ens = np.concatenate((x4, ens), axis=1)\n",
    "    four = gb.predict_proba(xgb)\n",
    "#     return gb.predict_proba(ens)\n",
    "    newx = [one, two, three, four]\n",
    "    return newx\n",
    "#     return gb.predict_proba(np.concatenate((ens1,ens2, x4),axis=1))"
   ]
  },
  {
   "cell_type": "code",
   "execution_count": 97,
   "metadata": {
    "collapsed": false
   },
   "outputs": [],
   "source": [
    "# pd.DataFrame(extra.feature_importances_).plot(kind='bar')"
   ]
  },
  {
   "cell_type": "code",
   "execution_count": null,
   "metadata": {
    "collapsed": true
   },
   "outputs": [],
   "source": []
  },
  {
   "cell_type": "code",
   "execution_count": null,
   "metadata": {
    "collapsed": false
   },
   "outputs": [],
   "source": []
  },
  {
   "cell_type": "code",
   "execution_count": null,
   "metadata": {
    "collapsed": false
   },
   "outputs": [],
   "source": [
    "extra, rf, knn, gb = train(\n",
    "    X.values[a],\n",
    "    Y[a],\n",
    "    df.IndY.loc[a].values\n",
    ")\n"
   ]
  },
  {
   "cell_type": "code",
   "execution_count": 82,
   "metadata": {
    "collapsed": true
   },
   "outputs": [],
   "source": [
    "# 0.98\n",
    "# 0.97\n",
    "# 0.94\n",
    "# 0.77"
   ]
  },
  {
   "cell_type": "code",
   "execution_count": null,
   "metadata": {
    "collapsed": false
   },
   "outputs": [],
   "source": []
  },
  {
   "cell_type": "code",
   "execution_count": 83,
   "metadata": {
    "collapsed": false
   },
   "outputs": [],
   "source": [
    "# del extra_features\n",
    "# del rf_features\n",
    "# del gb_features\n",
    "extra_features = None\n",
    "rf_features = None\n",
    "gb_features = None\n",
    "features = 200"
   ]
  },
  {
   "cell_type": "code",
   "execution_count": null,
   "metadata": {
    "collapsed": false
   },
   "outputs": [],
   "source": []
  },
  {
   "cell_type": "code",
   "execution_count": 106,
   "metadata": {
    "collapsed": false
   },
   "outputs": [
    {
     "data": {
      "image/png": "[encoded data removed]",
      "text/plain": [
       "<matplotlib.figure.Figure at 0x7f1d905d9780>"
      ]
     },
     "metadata": {},
     "output_type": "display_data"
    }
   ],
   "source": [
    "# features -= 1\n",
    "rfe = RFE(extra)\n",
    "rfe.fit(X.values[a], Y[a])\n",
    "extraf = pd.DataFrame(rfe.support_, columns=['vars'])\n",
    "extraf.index = pd.get_dummies(df[cols_1]).columns\n",
    "extraf.plot(kind='bar')\n",
    "extra_features = extraf.ix[extraf['vars'] == True, 'vars'].index"
   ]
  },
  {
   "cell_type": "code",
   "execution_count": 108,
   "metadata": {
    "collapsed": false
   },
   "outputs": [
    {
     "data": {
      "image/png": "[encoded data removed]",
      "text/plain": [
       "<matplotlib.figure.Figure at 0x7f1d8ea8d080>"
      ]
     },
     "metadata": {},
     "output_type": "display_data"
    }
   ],
   "source": [
    "rfe = RFE(rf)\n",
    "rfe.fit(X.values[a], Y[a])\n",
    "rff = pd.DataFrame(rfe.support_, columns=['vars'])\n",
    "rff.index = pd.get_dummies(df[cols_1]).columns\n",
    "rff.plot(kind='bar')\n",
    "rf_features = rff.ix[rff['vars'] == True, 'vars'].index"
   ]
  },
  {
   "cell_type": "code",
   "execution_count": null,
   "metadata": {
    "collapsed": false
   },
   "outputs": [],
   "source": [
    "rfe = RFE(gb)\n",
    "rfe.fit(X.values[a], Y[a])\n",
    "gbf = pd.DataFrame(rfe.support_, columns=['vars'])\n",
    "gbf.index = pd.get_dummies(df[cols_1]).columns\n",
    "gbf.plot(kind='bar')\n",
    "gb_features = gbf.ix[gbf['vars'] == True, 'vars'].index"
   ]
  },
  {
   "cell_type": "code",
   "execution_count": null,
   "metadata": {
    "collapsed": false
   },
   "outputs": [],
   "source": []
  },
  {
   "cell_type": "code",
   "execution_count": null,
   "metadata": {
    "collapsed": false
   },
   "outputs": [],
   "source": []
  },
  {
   "cell_type": "code",
   "execution_count": null,
   "metadata": {
    "collapsed": false,
    "scrolled": false
   },
   "outputs": [],
   "source": []
  },
  {
   "cell_type": "code",
   "execution_count": null,
   "metadata": {
    "collapsed": false
   },
   "outputs": [],
   "source": [
    "# res = pred(\n",
    "#     extra,\n",
    "#     rf,\n",
    "#     knn,\n",
    "#     gb, \n",
    "#     df.loc[b]\n",
    "#           )\n",
    "# prd = clf.predict_proba(res)"
   ]
  },
  {
   "cell_type": "code",
   "execution_count": null,
   "metadata": {
    "collapsed": true
   },
   "outputs": [],
   "source": [
    "losses = [.3, .3, 0, .4]"
   ]
  },
  {
   "cell_type": "code",
   "execution_count": null,
   "metadata": {
    "collapsed": false
   },
   "outputs": [],
   "source": []
  },
  {
   "cell_type": "code",
   "execution_count": null,
   "metadata": {
    "collapsed": false
   },
   "outputs": [],
   "source": []
  },
  {
   "cell_type": "code",
   "execution_count": null,
   "metadata": {
    "collapsed": false
   },
   "outputs": [],
   "source": [
    "voting = VotingClassifier([\n",
    "        ('extra', extra), \n",
    "        ('rf', rf), \n",
    "#         ('knn', knn), \n",
    "        ('gb', gb)\n",
    "    ],\n",
    "    weights=[\n",
    "        1,\n",
    "        1,\n",
    "#         0,\n",
    "        1.2\n",
    "    ],\n",
    "    voting='soft')"
   ]
  },
  {
   "cell_type": "code",
   "execution_count": null,
   "metadata": {
    "collapsed": false
   },
   "outputs": [],
   "source": [
    "voting.fit(\n",
    "    pd.get_dummies(df[cols_1].loc[a]).values,\n",
    "    Y[a]\n",
    ")\n",
    "scores = cross_validation.cross_val_score(voting, pd.get_dummies(df[cols_1].loc[b]).values,Y[b], cv=5, scoring='log_loss')\n",
    "print(\"Log loss: %0.2f (+/- %0.2f)\" % (scores.mean(), scores.std()))"
   ]
  },
  {
   "cell_type": "code",
   "execution_count": null,
   "metadata": {
    "collapsed": true
   },
   "outputs": [],
   "source": []
  },
  {
   "cell_type": "code",
   "execution_count": null,
   "metadata": {
    "collapsed": false
   },
   "outputs": [],
   "source": [
    "# prd = voting.predict_proba(pd.get_dummies(df[cols_1].loc[b]).values)"
   ]
  },
  {
   "cell_type": "code",
   "execution_count": null,
   "metadata": {
    "collapsed": false,
    "scrolled": false
   },
   "outputs": [],
   "source": [
    "res = pred(\n",
    "    extra,\n",
    "    rf,\n",
    "    knn,\n",
    "    gb, \n",
    "    df.loc[b]\n",
    "          )"
   ]
  },
  {
   "cell_type": "code",
   "execution_count": null,
   "metadata": {
    "collapsed": false
   },
   "outputs": [],
   "source": [
    "prd = (res[0] * losses[0]) + (res[1] * losses[1]) + (res[2] * losses[2]) + (res[3] * losses[3])"
   ]
  },
  {
   "cell_type": "code",
   "execution_count": null,
   "metadata": {
    "collapsed": false
   },
   "outputs": [],
   "source": []
  },
  {
   "cell_type": "code",
   "execution_count": null,
   "metadata": {
    "collapsed": false
   },
   "outputs": [],
   "source": []
  },
  {
   "cell_type": "code",
   "execution_count": null,
   "metadata": {
    "collapsed": false,
    "scrolled": true
   },
   "outputs": [],
   "source": [
    "log_loss(Y[b], prd)"
   ]
  },
  {
   "cell_type": "code",
   "execution_count": null,
   "metadata": {
    "collapsed": true
   },
   "outputs": [],
   "source": [
    "# 0.7651903888988153"
   ]
  },
  {
   "cell_type": "code",
   "execution_count": null,
   "metadata": {
    "collapsed": false
   },
   "outputs": [],
   "source": [
    "def get_test():\n",
    "    df_test = pd.read_csv('test.csv.gz')    \n",
    "    X_test = get_vars(df_test, cols_x)\n",
    "\n",
    "    return X_test"
   ]
  },
  {
   "cell_type": "code",
   "execution_count": null,
   "metadata": {
    "collapsed": false
   },
   "outputs": [],
   "source": [
    "X_test = get_test()"
   ]
  },
  {
   "cell_type": "code",
   "execution_count": null,
   "metadata": {
    "collapsed": false
   },
   "outputs": [],
   "source": []
  },
  {
   "cell_type": "code",
   "execution_count": null,
   "metadata": {
    "collapsed": false
   },
   "outputs": [],
   "source": [
    "cats = df.OutcomeType.unique()\n",
    "cats.sort()\n",
    "\n",
    "first, second, thirdth, fourth  = pred(extra, rf, knn, gb, X_test)\n",
    "final_result = first*one + second*two +  fourth*four # +thirdth*three\n",
    "\n",
    "# final_result = pred(extra, gb, X_test)\n",
    "final_result = pd.DataFrame(final_result, columns=cats)"
   ]
  },
  {
   "cell_type": "code",
   "execution_count": null,
   "metadata": {
    "collapsed": false
   },
   "outputs": [],
   "source": [
    "final_result['Id'] = final_result.index+1\n",
    "final_result.set_index('Id', inplace=True)"
   ]
  },
  {
   "cell_type": "code",
   "execution_count": null,
   "metadata": {
    "collapsed": false
   },
   "outputs": [],
   "source": [
    "today = datetime.today()\n",
    "t = today.strftime('%Y%m%d%H%M')\n",
    "final_result.to_csv('result_%s.csv.gz'%t, compression='gzip')"
   ]
  },
  {
   "cell_type": "code",
   "execution_count": null,
   "metadata": {
    "collapsed": false
   },
   "outputs": [],
   "source": []
  },
  {
   "cell_type": "code",
   "execution_count": null,
   "metadata": {
    "collapsed": true
   },
   "outputs": [],
   "source": []
  }
 ],
 "metadata": {
  "kernelspec": {
   "display_name": "Python 3",
   "language": "python",
   "name": "python3"
  },
  "language_info": {
   "codemirror_mode": {
    "name": "ipython",
    "version": 3
   },
   "file_extension": ".py",
   "mimetype": "text/x-python",
   "name": "python",
   "nbconvert_exporter": "python",
   "pygments_lexer": "ipython3",
   "version": "3.4.3"
  }
 },
 "nbformat": 4,
 "nbformat_minor": 0
}
