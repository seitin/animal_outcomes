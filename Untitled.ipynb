{
 "cells": [
  {
   "cell_type": "code",
   "execution_count": 1,
   "metadata": {
    "collapsed": false
   },
   "outputs": [],
   "source": [
    "import numpy as np\n",
    "import pandas as pd\n",
    "import matplotlib.pyplot as plt\n",
    "import matplotlib.patches as patches\n",
    "import matplotlib.path as path\n",
    "%matplotlib inline\n",
    "\n",
    "from datetime import datetime, time\n",
    "from sklearn.neighbors import KNeighborsClassifier, KNeighborsRegressor\n",
    "from sknn.mlp import Classifier, Layer\n",
    "from sklearn.linear_model import LinearRegression\n",
    "from sklearn.preprocessing import OneHotEncoder, MinMaxScaler\n",
    "from sklearn.decomposition import PCA\n",
    "from sklearn.ensemble import *\n",
    "from sklearn.cross_validation import KFold, train_test_split, StratifiedKFold, cross_val_score\n",
    "from sklearn.metrics import log_loss\n",
    "from sklearn.grid_search import GridSearchCV"
   ]
  },
  {
   "cell_type": "code",
   "execution_count": 2,
   "metadata": {
    "collapsed": false
   },
   "outputs": [],
   "source": [
    "# def get_data():\n",
    "df = pd.read_csv('train.csv.gz')"
   ]
  },
  {
   "cell_type": "code",
   "execution_count": 3,
   "metadata": {
    "collapsed": false
   },
   "outputs": [],
   "source": [
    "# df.total_time.map(lambda x: np.log10(x+1)).hist()"
   ]
  },
  {
   "cell_type": "code",
   "execution_count": 4,
   "metadata": {
    "collapsed": false
   },
   "outputs": [],
   "source": [
    "df_color = pd.DataFrame({'color1':df.Color.str.split('/').str[0], 'color2':df.Color.str.split('/').str[1]})\n",
    "vc_color = pd.concat((df_color['color1'], df_color['color2'])).value_counts()\n",
    "common_colors = vc_color[vc_color > 300].index"
   ]
  },
  {
   "cell_type": "code",
   "execution_count": null,
   "metadata": {
    "collapsed": false
   },
   "outputs": [],
   "source": []
  },
  {
   "cell_type": "code",
   "execution_count": null,
   "metadata": {
    "collapsed": false,
    "scrolled": true
   },
   "outputs": [],
   "source": []
  },
  {
   "cell_type": "code",
   "execution_count": null,
   "metadata": {
    "collapsed": true
   },
   "outputs": [],
   "source": []
  },
  {
   "cell_type": "code",
   "execution_count": 5,
   "metadata": {
    "collapsed": false
   },
   "outputs": [],
   "source": [
    "def get_vars(df, cols_x, cols_y=None):\n",
    "    minmax = MinMaxScaler()\n",
    "    \n",
    "    df.drop_duplicates(inplace=True)\n",
    "    df.DateTime = pd.to_datetime(df.DateTime)\n",
    "    df['weekday'] = df.DateTime.dt.weekday\n",
    "    df['weekend'] = (df.weekday > 4) * 1\n",
    "    df['viralata'] = (df.Breed.str.contains('Mix') | df.Breed.str.contains('/')) *1\n",
    "\n",
    "    df['common_colors'] = df.Color.isin(common_colors) * 1\n",
    "    \n",
    "    #     df.ix[df.AgeuponOutcome.isnull(),'AgeuponOutcome'] = 0\n",
    "    filt = df.AgeuponOutcome.str.contains('year')\n",
    "    df['days_multiplyer'] = 0\n",
    "    df.ix[df.AgeuponOutcome.str.contains('year')==True,'days_multiplyer'] = 365\n",
    "    df.ix[df.AgeuponOutcome.str.contains('month')==True,'days_multiplyer'] = 30\n",
    "    df.ix[df.AgeuponOutcome.str.contains('week')==True,'days_multiplyer'] = 7\n",
    "    df.ix[df.AgeuponOutcome.str.contains('day')==True,'days_multiplyer'] = 1\n",
    "    df.totaltime = df.AgeuponOutcome.str.split().str[0]\n",
    "    df.ix[df.totaltime.isnull(),'AgeuponOutcome'] = 0\n",
    "    df['total_time'] = df.totaltime.astype('float64') * df.days_multiplyer\n",
    "\n",
    "    df.ix[df.total_time.isnull(), 'total_time'] = 0\n",
    "    df.total_time = df.total_time.map(lambda x: np.log10(x+1))\n",
    "    df['mixed_color'] = df.Color.str.contains('/').astype('int')\n",
    "    \n",
    "    df['year'] = df.DateTime.dt.year\n",
    "    df['month'] = df.DateTime.dt.month\n",
    "    df['day'] = df.DateTime.dt.day\n",
    "    df['time'] = df.DateTime.dt.hour * 60 + df.DateTime.dt.minute\n",
    "    df.time = df.time.map(lambda x: np.log10(x+1))\n",
    "    \n",
    "    df['name_len'] = df.Name.str.len()\n",
    "    df.ix[df.name_len.isnull(), 'name_len'] = df.name_len.median()\n",
    "    \n",
    "    X = pd.get_dummies(df[cols_x]).values\n",
    "    if cols_y:\n",
    "        df.sort_values(by='OutcomeType')        \n",
    "        return X, df[cols_y].values\n",
    "    else:\n",
    "        return X\n",
    "    "
   ]
  },
  {
   "cell_type": "code",
   "execution_count": null,
   "metadata": {
    "collapsed": false
   },
   "outputs": [],
   "source": []
  },
  {
   "cell_type": "code",
   "execution_count": null,
   "metadata": {
    "collapsed": false
   },
   "outputs": [],
   "source": [
    "\n"
   ]
  },
  {
   "cell_type": "code",
   "execution_count": null,
   "metadata": {
    "collapsed": false
   },
   "outputs": [],
   "source": []
  },
  {
   "cell_type": "code",
   "execution_count": null,
   "metadata": {
    "collapsed": false
   },
   "outputs": [],
   "source": []
  },
  {
   "cell_type": "code",
   "execution_count": null,
   "metadata": {
    "collapsed": false
   },
   "outputs": [],
   "source": []
  },
  {
   "cell_type": "code",
   "execution_count": 6,
   "metadata": {
    "collapsed": true
   },
   "outputs": [],
   "source": [
    "# df.index = [df.index,df.Color]"
   ]
  },
  {
   "cell_type": "code",
   "execution_count": null,
   "metadata": {
    "collapsed": false
   },
   "outputs": [],
   "source": []
  },
  {
   "cell_type": "code",
   "execution_count": 7,
   "metadata": {
    "collapsed": false
   },
   "outputs": [],
   "source": [
    "# df.ix[df.mixed_color.isin(df.mixed_color.value_counts()[df.mixed_color.value_counts() == True].index)]['OutcomeType'].value_counts().plot(kind='bar')"
   ]
  },
  {
   "cell_type": "code",
   "execution_count": null,
   "metadata": {
    "collapsed": false
   },
   "outputs": [],
   "source": []
  },
  {
   "cell_type": "code",
   "execution_count": 8,
   "metadata": {
    "collapsed": false
   },
   "outputs": [],
   "source": [
    "cols_x = ['AnimalType','SexuponOutcome','viralata','total_time','weekday','weekend','common_colors','mixed_color', 'year', 'name_len', 'month', 'day', 'time']\n",
    "cols_y = ['OutcomeType']"
   ]
  },
  {
   "cell_type": "code",
   "execution_count": null,
   "metadata": {
    "collapsed": false
   },
   "outputs": [],
   "source": []
  },
  {
   "cell_type": "code",
   "execution_count": 9,
   "metadata": {
    "collapsed": false
   },
   "outputs": [],
   "source": [
    "X, Y = get_vars(df, cols_x, cols_y)\n",
    "X = X\n",
    "Y = Y.reshape(Y.shape[0])"
   ]
  },
  {
   "cell_type": "code",
   "execution_count": 10,
   "metadata": {
    "collapsed": false
   },
   "outputs": [],
   "source": [
    "# df.ix[df.total_time.isnull()]"
   ]
  },
  {
   "cell_type": "code",
   "execution_count": 11,
   "metadata": {
    "collapsed": false
   },
   "outputs": [
    {
     "data": {
      "text/plain": [
       "8909.666666666666"
      ]
     },
     "execution_count": 11,
     "metadata": {},
     "output_type": "execute_result"
    }
   ],
   "source": [
    "df.shape[0]/3"
   ]
  },
  {
   "cell_type": "code",
   "execution_count": 12,
   "metadata": {
    "collapsed": false
   },
   "outputs": [],
   "source": [
    "kf = StratifiedKFold(df.OutcomeType,n_folds=2, shuffle=True, random_state=500)\n",
    "a = list(kf)[0][0]\n",
    "b = list(kf)[1][0]\n",
    "# c = list(list(kf)[2][0])[0:8909]\n",
    "# d = list(list(kf)[3][0])[0:6682]\n",
    "\n",
    "\n",
    "# X_knn = X[train]\n",
    "# Y_knn = Y[train]\n",
    "\n",
    "# X_gb = X[train]\n",
    "# Y_gb = Y[train]\n",
    "\n",
    "# X_forest = X[train]\n",
    "# Y_forest = Y[train]\n",
    "\n",
    "# X_test = X[test]\n",
    "# Y_test = Y[test]\n",
    "\n",
    "# df_knn = df.ix[train]\n",
    "# df_gb = df.ix[train]\n",
    "# df_forest = df.ix[train]\n",
    "\n",
    "# df_train = df"
   ]
  },
  {
   "cell_type": "code",
   "execution_count": null,
   "metadata": {
    "collapsed": false
   },
   "outputs": [],
   "source": []
  },
  {
   "cell_type": "code",
   "execution_count": 13,
   "metadata": {
    "collapsed": false
   },
   "outputs": [],
   "source": [
    "# train_x = X_train\n",
    "# train_y = Y_train\n",
    "# test_x = X_test\n",
    "# test_y = Y_test"
   ]
  },
  {
   "cell_type": "code",
   "execution_count": 14,
   "metadata": {
    "collapsed": true
   },
   "outputs": [],
   "source": [
    "def train_linregression(train_x, train_y, test_x=None, test_y=None):\n",
    "    nfolds = 5\n",
    "    ini = datetime.now()\n",
    "\n",
    "    forest = ExtraTreesRegressor(n_jobs=4)\n",
    "\n",
    "    kf = StratifiedKFold(train_y, n_folds=nfolds, shuffle=True)\n",
    "    log_acc = 0\n",
    "    print('Training extratrees...')\n",
    "    for k, (train, test) in enumerate(kf, start=1):\n",
    "        forest.fit(train_x[train], train_y[train])\n",
    "        pred = forest.predict(train_x[test]) \n",
    "        loglo = log_loss(train_y[test], pred)\n",
    "        log_acc += loglo\n",
    "        print('fold:', k, 'log loss:', loglo)\n",
    "        del pred\n",
    "        \n",
    "#     log_acc = 0\n",
    "#     print('Training extratrees...')\n",
    "#     forest.fit(train_x, train_y)\n",
    "#     pred = forest.predict_proba(train_x) \n",
    "#     loglo = log_loss(train_y, pred)\n",
    "#     log_acc += loglo\n",
    "#     print('log loss:', loglo)\n",
    "#     del pred\n",
    "\n",
    "#     print(log_acc/nfolds)\n",
    "    \n",
    "#     if not test_x is None:\n",
    "#         pred = forest.predict_proba(test_x)\n",
    "#         print('fold:', 'train', 'log_loss:', log_loss(test_y, pred))\n",
    "#         del pred\n",
    "    fim = datetime.now()\n",
    "    print(fim - ini)\n",
    "    return forest"
   ]
  },
  {
   "cell_type": "code",
   "execution_count": 35,
   "metadata": {
    "collapsed": false
   },
   "outputs": [],
   "source": [
    "def train_rf(train_x, train_y, test_x=None, test_y=None, forest=None):\n",
    "    nfolds = 5\n",
    "    ini = datetime.now()\n",
    "\n",
    "    if forest==None:\n",
    "        forest = RandomForestClassifier(n_estimators=60, max_depth=15)\n",
    "    kf = StratifiedKFold(train_y, n_folds=nfolds, shuffle=True)\n",
    "    log_acc = 0\n",
    "    print('Training randomforest...')\n",
    "    for k, (train, test) in enumerate(kf, start=1):\n",
    "        forest.fit(train_x[train], train_y[train])\n",
    "        pred = forest.predict_proba(train_x[test]) \n",
    "        loglo = log_loss(train_y[test], pred)\n",
    "        log_acc += loglo\n",
    "        print('fold:', k, 'log loss:', loglo)\n",
    "        del pred\n",
    "        \n",
    "#     log_acc = 0\n",
    "#     print('Training rf...')\n",
    "#     forest.fit(train_x, train_y)\n",
    "#     pred = forest.predict_proba(train_x) \n",
    "#     loglo = log_loss(train_y, pred)\n",
    "#     log_acc += loglo\n",
    "#     print('log loss:', loglo)\n",
    "#     del pred\n",
    "\n",
    "#     print(log_acc/nfolds)\n",
    "    \n",
    "#     if not test_x is None:\n",
    "#         pred = forest.predict_proba(test_x)\n",
    "#         print('fold:', 'train', 'log_loss:', log_loss(test_y, pred))\n",
    "#         del pred\n",
    "    fim = datetime.now()\n",
    "    print(fim - ini)\n",
    "    return forest"
   ]
  },
  {
   "cell_type": "code",
   "execution_count": 25,
   "metadata": {
    "collapsed": true
   },
   "outputs": [],
   "source": [
    "def train_extratrees(train_x, train_y, test_x=None, test_y=None):\n",
    "    nfolds = 5\n",
    "    ini = datetime.now()\n",
    "\n",
    "    forest = ExtraTreesClassifier(n_estimators=15,n_jobs=4)\n",
    "\n",
    "    kf = StratifiedKFold(train_y, n_folds=nfolds, shuffle=True)\n",
    "    log_acc = 0\n",
    "    print('Training extratrees...')\n",
    "    for k, (train, test) in enumerate(kf, start=1):\n",
    "        forest.fit(train_x[train], train_y[train])\n",
    "        pred = forest.predict_proba(train_x[test]) \n",
    "        loglo = log_loss(train_y[test], pred)\n",
    "        log_acc += loglo\n",
    "        print('fold:', k, 'log loss:', loglo)\n",
    "        del pred\n",
    "        \n",
    "#     log_acc = 0\n",
    "#     print('Training extratrees...')\n",
    "#     forest.fit(train_x, train_y)\n",
    "#     pred = forest.predict_proba(train_x) \n",
    "#     loglo = log_loss(train_y, pred)\n",
    "#     log_acc += loglo\n",
    "#     print('log loss:', loglo)\n",
    "#     del pred\n",
    "\n",
    "#     print(log_acc/nfolds)\n",
    "    \n",
    "#     if not test_x is None:\n",
    "#         pred = forest.predict_proba(test_x)\n",
    "#         print('fold:', 'train', 'log_loss:', log_loss(test_y, pred))\n",
    "#         del pred\n",
    "    fim = datetime.now()\n",
    "    print(fim - ini)\n",
    "    return forest"
   ]
  },
  {
   "cell_type": "code",
   "execution_count": 26,
   "metadata": {
    "collapsed": true
   },
   "outputs": [],
   "source": [
    "def train_knn(train_x, train_y, test_x=None, test_y=None):\n",
    "    nfolds = 4\n",
    "    ini = datetime.now()\n",
    "\n",
    "#     forest = GradientBoostingClassifier(min_samples_split=1000, max_depth=6)\n",
    "    forest = KNeighborsClassifier(15)\n",
    "    \n",
    "    kf = StratifiedKFold(train_y, n_folds=nfolds, shuffle=True)\n",
    "    log_acc = 0\n",
    "    print('Training kneighbors...')\n",
    "    for k, (train, test) in enumerate(kf, start=1):\n",
    "        forest.fit(train_x[train], train_y[train])\n",
    "        pred = forest.predict_proba(train_x[test]) \n",
    "        loglo = log_loss(train_y[test], pred)\n",
    "        log_acc += loglo\n",
    "        print('fold:', k, 'log loss:', loglo)\n",
    "        del pred\n",
    "\n",
    "#     log_acc = 0\n",
    "#     print('Training kneighbours...')\n",
    "#     forest.fit(train_x, train_y)\n",
    "#     pred = forest.predict_proba(train_x) \n",
    "#     loglo = log_loss(train_y, pred)\n",
    "#     log_acc += loglo\n",
    "#     print('log loss:', loglo)\n",
    "#     del pred\n",
    "        \n",
    "#     print(log_acc/nfolds)\n",
    "    \n",
    "#     if not test_x is None:\n",
    "#         pred = forest.predict_proba(test_x)\n",
    "#         print('fold:', 'train', 'log_loss:', log_loss(test_y, pred))\n",
    "#         del pred\n",
    "    fim = datetime.now()\n",
    "    print(fim - ini)\n",
    "    return forest"
   ]
  },
  {
   "cell_type": "code",
   "execution_count": 27,
   "metadata": {
    "collapsed": false
   },
   "outputs": [],
   "source": [
    "def train_gb(train_x, train_y, test_x=None, test_y=None):\n",
    "    nfolds = 5\n",
    "    ini = datetime.now()\n",
    "\n",
    "    forest = GradientBoostingClassifier(min_samples_split=1000, max_depth=6)\n",
    "#     forest = ExtraTreesClassifier(min_samples_split=1000, random_state=500)\n",
    "\n",
    "    kf = StratifiedKFold(train_y, n_folds=nfolds, shuffle=True)\n",
    "    log_acc = 0\n",
    "    print('Training gb...')\n",
    "    for k, (train, test) in enumerate(kf, start=1):\n",
    "        forest.fit(train_x[train], train_y[train])\n",
    "        pred = forest.predict_proba(train_x[test]) \n",
    "        loglo = log_loss(train_y[test], pred)\n",
    "        log_acc += loglo\n",
    "        print('fold:', k, 'log loss:', loglo)\n",
    "        del pred\n",
    "\n",
    "#     log_acc = 0\n",
    "#     print('Training gb...')\n",
    "#     forest.fit(train_x, train_y)\n",
    "#     pred = forest.predict_proba(train_x) \n",
    "#     loglo = log_loss(train_y, pred)\n",
    "#     log_acc += loglo\n",
    "#     print('log loss:', loglo)\n",
    "#     del pred\n",
    "\n",
    "#     print(log_acc/nfolds)\n",
    "    \n",
    "#     if not test_x is None:\n",
    "#         pred = forest.predict_proba(test_x)\n",
    "#         print('fold:', 'train', 'log_loss:', log_loss(test_y, pred))\n",
    "#         del pred\n",
    "    fim = datetime.now()\n",
    "    print(fim - ini)\n",
    "    return forest"
   ]
  },
  {
   "cell_type": "code",
   "execution_count": null,
   "metadata": {
    "collapsed": false
   },
   "outputs": [],
   "source": []
  },
  {
   "cell_type": "code",
   "execution_count": 28,
   "metadata": {
    "collapsed": false
   },
   "outputs": [],
   "source": [
    "cols_1 = ['common_colors','SexuponOutcome','mixed_color']\n",
    "cols_2 = []\n",
    "cols_3 = []\n",
    "cols_4 = ['total_time','time','name_len','year','month','AnimalType','viralata','weekend']"
   ]
  },
  {
   "cell_type": "code",
   "execution_count": 70,
   "metadata": {
    "collapsed": false,
    "scrolled": true
   },
   "outputs": [],
   "source": [
    "def train(x, y):    \n",
    "    x1 = pd.get_dummies(x[cols_1]).values\n",
    "    x4 = pd.get_dummies(x[cols_4]).values\n",
    "    nfolds = 2\n",
    "    kf = StratifiedKFold(y, n_folds=nfolds, shuffle=True)\n",
    "    \n",
    "    list_ens =[]\n",
    "    for k, (train, test) in enumerate(kf, start=1):\n",
    "        if k == 1:\n",
    "            rf1 = train_rf(x1[train], y[train])\n",
    "        else:\n",
    "            rf1 = train_rf(x1[train], y[train], rf1)\n",
    "        list_ens.append(rf1.predict_proba(x1[train]))\n",
    "        pass\n",
    "    \n",
    "    ens1 = np.concatenate(list_ens)\n",
    "    ens2 = rf1.predict_proba(x1)\n",
    "            \n",
    "\n",
    "    gb = train_gb(np.concatenate((ens1, ens2, x4),axis=1), y)\n",
    "\n",
    "    #         proba = gb.predict_proba(np.concatenate((ens, X[train]),axis=1))\n",
    "        \n",
    "    return rf1, gb"
   ]
  },
  {
   "cell_type": "code",
   "execution_count": 80,
   "metadata": {
    "collapsed": false,
    "scrolled": true
   },
   "outputs": [],
   "source": [
    "def pred(rf,gb, x):\n",
    "    x1 = pd.get_dummies(x[cols_1]).values  \n",
    "    x4 = pd.get_dummies(x[cols_4]).values\n",
    "    \n",
    "    ens = rf.predict_proba(x1)\n",
    "    kf = KFold(x1.shape[0],n_folds=2, shuffle=True)\n",
    "    \n",
    "    list_ens =[]\n",
    "    for k, (train, test) in enumerate(kf, start=1):\n",
    "        list_ens.append(rf.predict_proba(x1[train]))\n",
    "        pass\n",
    "    \n",
    "    ens1 = np.concatenate(list_ens)\n",
    "    ens2 = rf.predict_proba(x1)\n",
    "    \n",
    "    \n",
    "    return gb.predict_proba(np.concatenate((ens1,ens2, x4),axis=1))"
   ]
  },
  {
   "cell_type": "code",
   "execution_count": 68,
   "metadata": {
    "collapsed": false
   },
   "outputs": [],
   "source": [
    "# pd.DataFrame(extra.feature_importances_).plot(kind='bar')"
   ]
  },
  {
   "cell_type": "code",
   "execution_count": 71,
   "metadata": {
    "collapsed": false,
    "scrolled": true
   },
   "outputs": [
    {
     "name": "stdout",
     "output_type": "stream",
     "text": [
      "Training randomforest...\n",
      "fold: 1 log loss: 1.14753451152\n",
      "fold: 2 log loss: 1.10999827482\n",
      "fold: 3 log loss: 1.05132460066\n",
      "fold: 4 log loss: 1.05522401959\n",
      "fold: 5 log loss: 1.06959495386\n",
      "0:00:00.657046\n",
      "Training randomforest...\n",
      "fold: 1 log loss: 1.03050958984\n",
      "fold: 2 log loss: 1.07783227276\n",
      "fold: 3 log loss: 1.08130098108\n",
      "fold: 4 log loss: 1.16270249276\n",
      "fold: 5 log loss: 1.06906843488\n",
      "0:00:00.640564\n",
      "Training gb...\n",
      "fold: 1 log loss: 0.795002887442\n",
      "fold: 2 log loss: 0.810095209444\n",
      "fold: 3 log loss: 0.795879489188\n",
      "fold: 4 log loss: 0.801095273457\n",
      "fold: 5 log loss: 0.810841373546\n",
      "0:01:08.451742\n"
     ]
    }
   ],
   "source": [
    "rf, gb = train(\n",
    "    pd.DataFrame(df.loc[a]),\n",
    "    Y[a]\n",
    ")"
   ]
  },
  {
   "cell_type": "code",
   "execution_count": 81,
   "metadata": {
    "collapsed": false,
    "scrolled": true
   },
   "outputs": [],
   "source": [
    "prd = pred(\n",
    "    rf,\n",
    "    gb, \n",
    "    df.iloc[b]\n",
    "          )"
   ]
  },
  {
   "cell_type": "code",
   "execution_count": 82,
   "metadata": {
    "collapsed": false
   },
   "outputs": [
    {
     "data": {
      "text/plain": [
       "0.81174944999387144"
      ]
     },
     "execution_count": 82,
     "metadata": {},
     "output_type": "execute_result"
    }
   ],
   "source": [
    "log_loss(Y[b], prd)"
   ]
  },
  {
   "cell_type": "code",
   "execution_count": null,
   "metadata": {
    "collapsed": true
   },
   "outputs": [],
   "source": [
    "# 0.80637134429378865"
   ]
  },
  {
   "cell_type": "code",
   "execution_count": null,
   "metadata": {
    "collapsed": false
   },
   "outputs": [],
   "source": [
    "def get_test():\n",
    "    df_test = pd.read_csv('test.csv.gz')    \n",
    "    X_test = get_vars(df_test,cols_x)\n",
    "\n",
    "    return X_test"
   ]
  },
  {
   "cell_type": "code",
   "execution_count": null,
   "metadata": {
    "collapsed": false
   },
   "outputs": [],
   "source": [
    "X_test = get_test()"
   ]
  },
  {
   "cell_type": "code",
   "execution_count": null,
   "metadata": {
    "collapsed": false
   },
   "outputs": [],
   "source": [
    "cats = df.OutcomeType.unique()\n",
    "cats.sort()\n",
    "\n",
    "final_result = pred(neuralnetwork, knn, gb, X_test)\n",
    "final_result = pd.DataFrame(final_result, columns=cats)"
   ]
  },
  {
   "cell_type": "code",
   "execution_count": null,
   "metadata": {
    "collapsed": true
   },
   "outputs": [],
   "source": [
    "final_result['Id'] = final_result.index+1\n",
    "final_result.set_index('Id', inplace=True)"
   ]
  },
  {
   "cell_type": "code",
   "execution_count": null,
   "metadata": {
    "collapsed": false
   },
   "outputs": [],
   "source": [
    "today = datetime.today()\n",
    "t = today.strftime('%Y%m%d%H%M')\n",
    "final_result.to_csv('result_%s.csv.gz'%t, compression='gzip')"
   ]
  },
  {
   "cell_type": "code",
   "execution_count": null,
   "metadata": {
    "collapsed": false
   },
   "outputs": [],
   "source": []
  }
 ],
 "metadata": {
  "kernelspec": {
   "display_name": "Python 3",
   "language": "python",
   "name": "python3"
  },
  "language_info": {
   "codemirror_mode": {
    "name": "ipython",
    "version": 3
   },
   "file_extension": ".py",
   "mimetype": "text/x-python",
   "name": "python",
   "nbconvert_exporter": "python",
   "pygments_lexer": "ipython3",
   "version": "3.4.3"
  }
 },
 "nbformat": 4,
 "nbformat_minor": 0
}
