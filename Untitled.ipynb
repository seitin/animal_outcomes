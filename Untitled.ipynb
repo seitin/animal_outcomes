{
 "cells": [
  {
   "cell_type": "code",
   "execution_count": 1,
   "metadata": {
    "collapsed": false
   },
   "outputs": [],
   "source": [
    "import numpy as np\n",
    "import pandas as pd\n",
    "import matplotlib.pyplot as plt\n",
    "import matplotlib.patches as patches\n",
    "import matplotlib.path as path\n",
    "%matplotlib inline\n",
    "\n",
    "from datetime import datetime, time\n",
    "from sklearn.neighbors import KNeighborsClassifier\n",
    "from sknn.mlp import Classifier, Layer\n",
    "from sklearn.preprocessing import OneHotEncoder, MinMaxScaler\n",
    "from sklearn.decomposition import PCA\n",
    "from sklearn.ensemble import RandomForestClassifier, ExtraTreesClassifier, ExtraTreesRegressor, GradientBoostingClassifier\n",
    "from sklearn.cross_validation import KFold, train_test_split, StratifiedKFold, cross_val_score\n",
    "from sklearn.metrics import log_loss\n",
    "from sklearn.grid_search import GridSearchCV"
   ]
  },
  {
   "cell_type": "code",
   "execution_count": 2,
   "metadata": {
    "collapsed": false
   },
   "outputs": [],
   "source": [
    "# def get_data():\n",
    "df = pd.read_csv('train.csv.gz')"
   ]
  },
  {
   "cell_type": "code",
   "execution_count": 3,
   "metadata": {
    "collapsed": false
   },
   "outputs": [],
   "source": [
    "# df.total_time.map(lambda x: np.log10(x+1)).hist()"
   ]
  },
  {
   "cell_type": "code",
   "execution_count": 4,
   "metadata": {
    "collapsed": false
   },
   "outputs": [],
   "source": [
    "df_color = pd.DataFrame({'color1':df.Color.str.split('/').str[0], 'color2':df.Color.str.split('/').str[1]})\n",
    "vc_color = pd.concat((df_color['color1'], df_color['color2'])).value_counts()\n",
    "common_colors = vc_color[vc_color > 300].index"
   ]
  },
  {
   "cell_type": "code",
   "execution_count": null,
   "metadata": {
    "collapsed": false
   },
   "outputs": [],
   "source": []
  },
  {
   "cell_type": "code",
   "execution_count": null,
   "metadata": {
    "collapsed": false,
    "scrolled": true
   },
   "outputs": [],
   "source": []
  },
  {
   "cell_type": "code",
   "execution_count": null,
   "metadata": {
    "collapsed": true
   },
   "outputs": [],
   "source": []
  },
  {
   "cell_type": "code",
   "execution_count": 5,
   "metadata": {
    "collapsed": false
   },
   "outputs": [],
   "source": [
    "def get_vars(df, cols_x, cols_y=None):\n",
    "    minmax = MinMaxScaler()\n",
    "    \n",
    "    df.drop_duplicates(inplace=True)\n",
    "    df.DateTime = pd.to_datetime(df.DateTime)\n",
    "    df['weekday'] = df.DateTime.dt.weekday\n",
    "    df['weekend'] = (df.weekday > 4) * 1\n",
    "    df['viralata'] = (df.Breed.str.contains('Mix') | df.Breed.str.contains('/')) *1\n",
    "\n",
    "    df['common_colors'] = df.Color.isin(common_colors) * 1\n",
    "    \n",
    "    #     df.ix[df.AgeuponOutcome.isnull(),'AgeuponOutcome'] = 0\n",
    "    filt = df.AgeuponOutcome.str.contains('year')\n",
    "    df['days_multiplyer'] = 0\n",
    "    df.ix[df.AgeuponOutcome.str.contains('year')==True,'days_multiplyer'] = 365\n",
    "    df.ix[df.AgeuponOutcome.str.contains('month')==True,'days_multiplyer'] = 30\n",
    "    df.ix[df.AgeuponOutcome.str.contains('week')==True,'days_multiplyer'] = 7\n",
    "    df.ix[df.AgeuponOutcome.str.contains('day')==True,'days_multiplyer'] = 1\n",
    "    df.totaltime = df.AgeuponOutcome.str.split().str[0]\n",
    "    df.ix[df.totaltime.isnull(),'AgeuponOutcome'] = 0\n",
    "    df['total_time'] = df.totaltime.astype('float64') * df.days_multiplyer\n",
    "\n",
    "    df.ix[df.total_time.isnull(), 'total_time'] = 0\n",
    "#     df.ix[df.total_time == 0 'total_time'] = max(df.total_time) * -1\n",
    "#     df['total_time'] = minmax.fit_transform(df.total_time)\n",
    "    df.total_time = df.total_time.map(lambda x: np.log10(x+1))\n",
    "    df['mixed_color'] = df.Color.str.contains('/').astype('int')\n",
    "    \n",
    "    df['year'] = df.DateTime.dt.year\n",
    "    df['month'] = df.DateTime.dt.month\n",
    "    df['day'] = df.DateTime.dt.day\n",
    "    df['time'] = df.DateTime.dt.hour * 60 + df.DateTime.dt.minute\n",
    "#     df.ix[df.time == 0,'time'] = max(df.time)* -1\n",
    "    df.time = df.time.map(lambda x: np.log10(x+1))\n",
    "    \n",
    "    df['name_len'] = df.Name.str.len()\n",
    "    df.ix[df.name_len.isnull(), 'name_len'] = df.name_len.median()\n",
    "    X = pd.get_dummies(df[cols_x]).values\n",
    "    if cols_y:\n",
    "        df.sort_values(by='OutcomeType')        \n",
    "        return X, df[cols_y].values\n",
    "    else:\n",
    "        return X\n",
    "    "
   ]
  },
  {
   "cell_type": "code",
   "execution_count": null,
   "metadata": {
    "collapsed": true
   },
   "outputs": [],
   "source": []
  },
  {
   "cell_type": "code",
   "execution_count": null,
   "metadata": {
    "collapsed": false
   },
   "outputs": [],
   "source": []
  },
  {
   "cell_type": "code",
   "execution_count": null,
   "metadata": {
    "collapsed": false
   },
   "outputs": [],
   "source": []
  },
  {
   "cell_type": "code",
   "execution_count": null,
   "metadata": {
    "collapsed": false
   },
   "outputs": [],
   "source": []
  },
  {
   "cell_type": "code",
   "execution_count": 6,
   "metadata": {
    "collapsed": true
   },
   "outputs": [],
   "source": [
    "# df.index = [df.index,df.Color]"
   ]
  },
  {
   "cell_type": "code",
   "execution_count": null,
   "metadata": {
    "collapsed": false
   },
   "outputs": [],
   "source": []
  },
  {
   "cell_type": "code",
   "execution_count": 7,
   "metadata": {
    "collapsed": false
   },
   "outputs": [],
   "source": [
    "# df.ix[df.mixed_color.isin(df.mixed_color.value_counts()[df.mixed_color.value_counts() == True].index)]['OutcomeType'].value_counts().plot(kind='bar')"
   ]
  },
  {
   "cell_type": "code",
   "execution_count": null,
   "metadata": {
    "collapsed": false
   },
   "outputs": [],
   "source": []
  },
  {
   "cell_type": "code",
   "execution_count": 8,
   "metadata": {
    "collapsed": false
   },
   "outputs": [],
   "source": [
    "cols_x = ['AnimalType','SexuponOutcome','viralata','total_time','weekday','weekend','common_colors','mixed_color', 'year', 'name_len', 'month', 'day', 'time']\n",
    "cols_y = ['OutcomeType']"
   ]
  },
  {
   "cell_type": "code",
   "execution_count": null,
   "metadata": {
    "collapsed": false
   },
   "outputs": [],
   "source": []
  },
  {
   "cell_type": "code",
   "execution_count": 9,
   "metadata": {
    "collapsed": false
   },
   "outputs": [],
   "source": [
    "X, Y = get_vars(df, cols_x, cols_y)\n",
    "X = X\n",
    "Y = Y.reshape(Y.shape[0])"
   ]
  },
  {
   "cell_type": "code",
   "execution_count": 10,
   "metadata": {
    "collapsed": false
   },
   "outputs": [],
   "source": [
    "# df.ix[df.total_time.isnull()]"
   ]
  },
  {
   "cell_type": "code",
   "execution_count": 11,
   "metadata": {
    "collapsed": false
   },
   "outputs": [
    {
     "data": {
      "text/plain": [
       "8909.666666666666"
      ]
     },
     "execution_count": 11,
     "metadata": {},
     "output_type": "execute_result"
    }
   ],
   "source": [
    "df.shape[0]/3"
   ]
  },
  {
   "cell_type": "code",
   "execution_count": 20,
   "metadata": {
    "collapsed": false
   },
   "outputs": [],
   "source": [
    "kf = StratifiedKFold(df.OutcomeType,n_folds=2, shuffle=True, random_state=500)\n",
    "a = list(kf)[0][0]\n",
    "b = list(kf)[1][0]\n",
    "# c = list(list(kf)[2][0])[0:8909]\n",
    "# d = list(list(kf)[3][0])[0:6682]\n",
    "\n",
    "\n",
    "# X_knn = X[train]\n",
    "# Y_knn = Y[train]\n",
    "\n",
    "# X_gb = X[train]\n",
    "# Y_gb = Y[train]\n",
    "\n",
    "# X_forest = X[train]\n",
    "# Y_forest = Y[train]\n",
    "\n",
    "# X_test = X[test]\n",
    "# Y_test = Y[test]\n",
    "\n",
    "# df_knn = df.ix[train]\n",
    "# df_gb = df.ix[train]\n",
    "# df_forest = df.ix[train]\n",
    "\n",
    "# df_train = df"
   ]
  },
  {
   "cell_type": "code",
   "execution_count": null,
   "metadata": {
    "collapsed": false
   },
   "outputs": [],
   "source": []
  },
  {
   "cell_type": "code",
   "execution_count": 13,
   "metadata": {
    "collapsed": false
   },
   "outputs": [],
   "source": [
    "# train_x = X_train\n",
    "# train_y = Y_train\n",
    "# test_x = X_test\n",
    "# test_y = Y_test"
   ]
  },
  {
   "cell_type": "code",
   "execution_count": null,
   "metadata": {
    "collapsed": false
   },
   "outputs": [],
   "source": []
  },
  {
   "cell_type": "code",
   "execution_count": 81,
   "metadata": {
    "collapsed": true
   },
   "outputs": [],
   "source": [
    "def train_neuralnetwork(train_x, train_y, test_x=None, test_y=None):\n",
    "    nfolds = 3\n",
    "    ini = datetime.now()\n",
    "\n",
    "    forest = Classifier( layers=[\n",
    "            Layer('Rectifier', units=32),\n",
    "            Layer('Sigmoid', units=64),\n",
    "            Layer(\"Softmax\")],\n",
    "                                random_state=500,\n",
    "#                                 learning_rate=0.0001,\n",
    "                                 batch_size=3,\n",
    "#                                 dropout_rate=0.01\n",
    "                       )\n",
    "\n",
    "    kf = StratifiedKFold(train_y, n_folds=nfolds, shuffle=True)\n",
    "    log_acc = 0\n",
    "    print('Training neural...')\n",
    "    for k, (train, test) in enumerate(kf, start=1):\n",
    "        forest.fit(train_x[train], train_y[train])\n",
    "        pred = forest.predict_proba(train_x[test]) \n",
    "        loglo = log_loss(train_y[test], pred)\n",
    "        log_acc += loglo\n",
    "        print('fold:', k, 'log loss:', loglo)\n",
    "        del pred\n",
    "\n",
    "    print(log_acc/nfolds)\n",
    "    \n",
    "    if not test_x is None:\n",
    "        pred = forest.predict_proba(test_x)\n",
    "        print('fold:', 'train', 'log_loss:', log_loss(test_y, pred))\n",
    "        del pred\n",
    "    fim = datetime.now()\n",
    "    print(fim - ini)\n",
    "    return forest"
   ]
  },
  {
   "cell_type": "code",
   "execution_count": 82,
   "metadata": {
    "collapsed": true
   },
   "outputs": [],
   "source": [
    "def train_knn(train_x, train_y, test_x=None, test_y=None):\n",
    "    nfolds = 10\n",
    "    ini = datetime.now()\n",
    "\n",
    "#     forest = GradientBoostingClassifier(min_samples_split=1000, max_depth=6)\n",
    "    forest = KNeighborsClassifier(15)\n",
    "\n",
    "    kf = StratifiedKFold(train_y, n_folds=nfolds, shuffle=True)\n",
    "    log_acc = 0\n",
    "    print('Training kneighbors...')\n",
    "    for k, (train, test) in enumerate(kf, start=1):\n",
    "        forest.fit(train_x[train], train_y[train])\n",
    "        pred = forest.predict_proba(train_x[test]) \n",
    "        loglo = log_loss(train_y[test], pred)\n",
    "        log_acc += loglo\n",
    "        print('fold:', k, 'log loss:', loglo)\n",
    "        del pred\n",
    "\n",
    "    print(log_acc/nfolds)\n",
    "    \n",
    "    if not test_x is None:\n",
    "        pred = forest.predict_proba(test_x)\n",
    "        print('fold:', 'train', 'log_loss:', log_loss(test_y, pred))\n",
    "        del pred\n",
    "    fim = datetime.now()\n",
    "    print(fim - ini)\n",
    "    return forest"
   ]
  },
  {
   "cell_type": "code",
   "execution_count": 83,
   "metadata": {
    "collapsed": false
   },
   "outputs": [],
   "source": [
    "def train_gb(train_x, train_y, test_x=None, test_y=None):\n",
    "    nfolds = 5\n",
    "    ini = datetime.now()\n",
    "\n",
    "    forest = GradientBoostingClassifier(min_samples_split=1000, max_depth=6)\n",
    "#     forest = ExtraTreesClassifier(min_samples_split=1000, random_state=500)\n",
    "\n",
    "    kf = StratifiedKFold(train_y, n_folds=nfolds, shuffle=True)\n",
    "    log_acc = 0\n",
    "    print('Training gb...')\n",
    "    for k, (train, test) in enumerate(kf, start=1):\n",
    "        forest.fit(train_x[train], train_y[train])\n",
    "        pred = forest.predict_proba(train_x[test]) \n",
    "        loglo = log_loss(train_y[test], pred)\n",
    "        log_acc += loglo\n",
    "        print('fold:', k, 'log loss:', loglo)\n",
    "        del pred\n",
    "\n",
    "    print(log_acc/nfolds)\n",
    "    \n",
    "    if not test_x is None:\n",
    "        pred = forest.predict_proba(test_x)\n",
    "        print('fold:', 'train', 'log_loss:', log_loss(test_y, pred))\n",
    "        del pred\n",
    "    fim = datetime.now()\n",
    "    print(fim - ini)\n",
    "    return forest"
   ]
  },
  {
   "cell_type": "code",
   "execution_count": null,
   "metadata": {
    "collapsed": false
   },
   "outputs": [],
   "source": []
  },
  {
   "cell_type": "code",
   "execution_count": null,
   "metadata": {
    "collapsed": false
   },
   "outputs": [],
   "source": []
  },
  {
   "cell_type": "code",
   "execution_count": 89,
   "metadata": {
    "collapsed": false,
    "scrolled": true
   },
   "outputs": [],
   "source": [
    "def train(x, y):\n",
    "    kf = StratifiedKFold(y, random_state=500, n_folds=10)\n",
    "    for k, (train, test) in enumerate(kf, start=1):\n",
    "        neuralnetwork = train_neuralnetwork(x[train], y[train])\n",
    "        ens = neuralnetwork.predict_proba(x[train])\n",
    "\n",
    "        knn = train_knn(np.concatenate((ens, x[train]),axis=1), y[train])\n",
    "        ens = knn.predict_proba(np.concatenate((ens, x[train]),axis=1))\n",
    "\n",
    "        gb = train_gb(np.concatenate((ens, x[train]),axis=1), y[train])\n",
    "#         proba = gb.predict_proba(np.concatenate((ens, X[train]),axis=1))\n",
    "#         print('=============')\n",
    "#         print('fold:',k,'log_loss:', log_loss())\n",
    "#         print('=============')\n",
    "        \n",
    "    return neuralnetwork, knn, gb"
   ]
  },
  {
   "cell_type": "code",
   "execution_count": 90,
   "metadata": {
    "collapsed": false,
    "scrolled": true
   },
   "outputs": [],
   "source": [
    "def pred(neuralnetwork, knn, gb, X):\n",
    "    ens = neuralnetwork.predict_proba(X)\n",
    "    ens = knn.predict_proba(np.concatenate((ens, X),axis=1))\n",
    "    return gb.predict_proba(np.concatenate((ens, X),axis=1))"
   ]
  },
  {
   "cell_type": "code",
   "execution_count": null,
   "metadata": {
    "collapsed": false
   },
   "outputs": [],
   "source": []
  },
  {
   "cell_type": "code",
   "execution_count": null,
   "metadata": {
    "collapsed": false,
    "scrolled": true
   },
   "outputs": [],
   "source": []
  },
  {
   "cell_type": "code",
   "execution_count": null,
   "metadata": {
    "collapsed": false,
    "scrolled": true
   },
   "outputs": [
    {
     "name": "stdout",
     "output_type": "stream",
     "text": [
      "Training neural...\n",
      "[(4009, 5)]\n",
      "fold: 1 log loss: 1.2860733283\n",
      "[(4008, 5)]\n",
      "fold: 2 log loss: 1.24412987715\n",
      "[(4007, 5)]\n",
      "fold: 3 log loss: 1.26679732824\n",
      "1.26566684456\n",
      "0:00:53.781681\n",
      "[(12024, 5)]\n",
      "Training kneighbors...\n",
      "fold: 1 log loss: 1.81414152634\n",
      "fold: 2 log loss: 2.04206229693\n",
      "fold: 3 log loss: 2.03888938813\n",
      "fold: 4 log loss: 1.98397844949\n",
      "fold: 5 log loss: 2.3003715546\n",
      "fold: 6 log loss: 2.02653876104\n",
      "fold: 7 log loss: 2.06845633448\n",
      "fold: 8 log loss: 1.98761092987\n",
      "fold: 9 log loss: 1.75693460235\n",
      "fold: 10 log loss: 1.94240325894\n",
      "1.99613871022\n",
      "0:00:01.068352\n",
      "Training gb...\n",
      "fold: 1 log loss: 0.722454616469\n",
      "fold:"
     ]
    }
   ],
   "source": [
    "neuralnetwork, knn, gb = train(X[a], Y[a])"
   ]
  },
  {
   "cell_type": "code",
   "execution_count": null,
   "metadata": {
    "collapsed": false,
    "scrolled": true
   },
   "outputs": [],
   "source": [
    "prd = pred(neuralnetwork, knn, gb, X[b])"
   ]
  },
  {
   "cell_type": "code",
   "execution_count": null,
   "metadata": {
    "collapsed": false
   },
   "outputs": [],
   "source": [
    "log_loss(Y[b], prd)"
   ]
  },
  {
   "cell_type": "code",
   "execution_count": null,
   "metadata": {
    "collapsed": true
   },
   "outputs": [],
   "source": []
  },
  {
   "cell_type": "code",
   "execution_count": null,
   "metadata": {
    "collapsed": false
   },
   "outputs": [],
   "source": [
    "def get_test():\n",
    "    df_test = pd.read_csv('test.csv.gz')    \n",
    "    X_test = get_vars(df_test,cols_x)\n",
    "\n",
    "    return X_test"
   ]
  },
  {
   "cell_type": "code",
   "execution_count": null,
   "metadata": {
    "collapsed": false
   },
   "outputs": [],
   "source": [
    "X_test = get_test()"
   ]
  },
  {
   "cell_type": "code",
   "execution_count": null,
   "metadata": {
    "collapsed": false
   },
   "outputs": [],
   "source": [
    "cats = df.OutcomeType.unique()\n",
    "cats.sort()\n",
    "\n",
    "final_result = pred(neuralnetwork, knn, gb, X_test)\n",
    "final_result = pd.DataFrame(final_result, columns=cats)"
   ]
  },
  {
   "cell_type": "code",
   "execution_count": null,
   "metadata": {
    "collapsed": true
   },
   "outputs": [],
   "source": [
    "final_result['Id'] = final_result.index+1\n",
    "final_result.set_index('Id', inplace=True)"
   ]
  },
  {
   "cell_type": "code",
   "execution_count": null,
   "metadata": {
    "collapsed": false
   },
   "outputs": [],
   "source": [
    "today = datetime.today()\n",
    "t = today.strftime('%Y%m%d%H%M')\n",
    "final_result.to_csv('result_%s.csv.gz'%t, compression='gzip')"
   ]
  },
  {
   "cell_type": "code",
   "execution_count": null,
   "metadata": {
    "collapsed": false
   },
   "outputs": [],
   "source": []
  }
 ],
 "metadata": {
  "kernelspec": {
   "display_name": "Python 3",
   "language": "python",
   "name": "python3"
  },
  "language_info": {
   "codemirror_mode": {
    "name": "ipython",
    "version": 3
   },
   "file_extension": ".py",
   "mimetype": "text/x-python",
   "name": "python",
   "nbconvert_exporter": "python",
   "pygments_lexer": "ipython3",
   "version": "3.4.3"
  }
 },
 "nbformat": 4,
 "nbformat_minor": 0
}
